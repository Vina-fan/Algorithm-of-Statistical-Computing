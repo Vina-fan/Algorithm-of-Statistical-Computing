{
 "cells": [
  {
   "cell_type": "markdown",
   "metadata": {
    "toc": true
   },
   "source": [
    "<h1>Table of Contents<span class=\"tocSkip\"></span></h1>\n",
    "<div class=\"toc\"><ul class=\"toc-item\"><li><span><a href=\"#什么是最优子集回归?\" data-toc-modified-id=\"什么是最优子集回归?-1\"><span class=\"toc-item-num\">1&nbsp;&nbsp;</span>什么是最优子集回归?</a></span></li><li><span><a href=\"#如何获得全部模型?\" data-toc-modified-id=\"如何获得全部模型?-2\"><span class=\"toc-item-num\">2&nbsp;&nbsp;</span>如何获得全部模型?</a></span><ul class=\"toc-item\"><li><span><a href=\"#循环法获得矩阵$Z$\" data-toc-modified-id=\"循环法获得矩阵$Z$-2.1\"><span class=\"toc-item-num\">2.1&nbsp;&nbsp;</span>循环法获得矩阵$Z$</a></span></li><li><span><a href=\"#递归法获得矩阵$Z$\" data-toc-modified-id=\"递归法获得矩阵$Z$-2.2\"><span class=\"toc-item-num\">2.2&nbsp;&nbsp;</span>递归法获得矩阵$Z$</a></span></li></ul></li><li><span><a href=\"#R语言实现最优子集回归\" data-toc-modified-id=\"R语言实现最优子集回归-3\"><span class=\"toc-item-num\">3&nbsp;&nbsp;</span>R语言实现最优子集回归</a></span></li><li><span><a href=\"#例子\" data-toc-modified-id=\"例子-4\"><span class=\"toc-item-num\">4&nbsp;&nbsp;</span>例子</a></span></li></ul></div>"
   ]
  },
  {
   "cell_type": "markdown",
   "metadata": {},
   "source": [
    "# 最优子集回归"
   ]
  },
  {
   "cell_type": "markdown",
   "metadata": {},
   "source": [
    "## 什么是最优子集回归?"
   ]
  },
  {
   "cell_type": "markdown",
   "metadata": {},
   "source": [
    "- 当我们进行回归分析时，我们可能会碰到自变量过多, 且存在多重共线性, 或者全模型可能是过度拟合的.\n",
    "- 针对这种情况，可以人为根据经验判断筛选对因变量有影响的自变量，比如距离周边学校的距离去预测房价.\n",
    "- 但通常我们并不是相关领域的专家, 对可能影响因变量的自变量并不了解，于是我们需要运用算法获得预测效果最优的模型, 进而接近真实模型，比如最优子集回归.\n",
    "    - 最优子集回归, 即对$p$个预测变量的所有可能组合分别使用最小二乘回归进行拟合\n",
    "    - 对含1变量的模型，拟合$p$个模型; 对含两个变量的模型，拟合$p(p-1)/2$个模型，以此类推，总共拟合$2^p$个模型.\n",
    "    - 按照一定的比较准则（如AIC）从中选择一个最优模型."
   ]
  },
  {
   "cell_type": "markdown",
   "metadata": {},
   "source": [
    "## 如何获得全部模型?"
   ]
  },
  {
   "cell_type": "markdown",
   "metadata": {},
   "source": [
    "- 最优子集回归需要建立大量的模型，手动输入显然不可行，可以使用二进制向量来表示一个模型，值为1表示选择该变量，值为0表示不选择该变量. \n",
    "- 比如总共有3个自变量时，$(0,1,1)$表示使用第2和第3个自变量建立模型.\n",
    "- 将所有可能的向量按行排列，得到$2^p\\times p$维的矩阵$Z$.\n",
    "- 矩阵$Z$的行转化为十进制即为$[0,2^p-1]$的所有整数，所以，$[0,2^p-1]$中的所有整数转化为二进制向量并按行排列即可表示所有可能的模型."
   ]
  },
  {
   "cell_type": "markdown",
   "metadata": {},
   "source": [
    "### 循环法获得矩阵$Z$"
   ]
  },
  {
   "cell_type": "markdown",
   "metadata": {},
   "source": [
    "- 解方程$(1)$，得到$(k_0,k_1,...,k_{p-1})$, 即可将十进制的$n$转化为二进制$p$维向量。\n",
    "$$n=k_02^0+k_12^1+k_22^2+...+k_{p-1}2^{p-1}\\tag{1}$$\n",
    "- turnbits_cir函数即可实现此功能。"
   ]
  },
  {
   "cell_type": "code",
   "execution_count": 7,
   "metadata": {
    "scrolled": true
   },
   "outputs": [
    {
     "data": {
      "text/html": [
       "<table>\n",
       "<tbody>\n",
       "\t<tr><td>FALSE</td><td>FALSE</td><td>FALSE</td></tr>\n",
       "\t<tr><td> TRUE</td><td>FALSE</td><td>FALSE</td></tr>\n",
       "\t<tr><td>FALSE</td><td> TRUE</td><td>FALSE</td></tr>\n",
       "\t<tr><td> TRUE</td><td> TRUE</td><td>FALSE</td></tr>\n",
       "\t<tr><td>FALSE</td><td>FALSE</td><td> TRUE</td></tr>\n",
       "\t<tr><td> TRUE</td><td>FALSE</td><td> TRUE</td></tr>\n",
       "\t<tr><td>FALSE</td><td> TRUE</td><td> TRUE</td></tr>\n",
       "\t<tr><td> TRUE</td><td> TRUE</td><td> TRUE</td></tr>\n",
       "</tbody>\n",
       "</table>\n"
      ],
      "text/latex": [
       "\\begin{tabular}{lll}\n",
       "\t FALSE & FALSE & FALSE\\\\\n",
       "\t  TRUE & FALSE & FALSE\\\\\n",
       "\t FALSE &  TRUE & FALSE\\\\\n",
       "\t  TRUE &  TRUE & FALSE\\\\\n",
       "\t FALSE & FALSE &  TRUE\\\\\n",
       "\t  TRUE & FALSE &  TRUE\\\\\n",
       "\t FALSE &  TRUE &  TRUE\\\\\n",
       "\t  TRUE &  TRUE &  TRUE\\\\\n",
       "\\end{tabular}\n"
      ],
      "text/markdown": [
       "\n",
       "| FALSE | FALSE | FALSE | \n",
       "|  TRUE | FALSE | FALSE | \n",
       "| FALSE |  TRUE | FALSE | \n",
       "|  TRUE |  TRUE | FALSE | \n",
       "| FALSE | FALSE |  TRUE | \n",
       "|  TRUE | FALSE |  TRUE | \n",
       "| FALSE |  TRUE |  TRUE | \n",
       "|  TRUE |  TRUE |  TRUE | \n",
       "\n",
       "\n"
      ],
      "text/plain": [
       "     [,1]  [,2]  [,3] \n",
       "[1,] FALSE FALSE FALSE\n",
       "[2,]  TRUE FALSE FALSE\n",
       "[3,] FALSE  TRUE FALSE\n",
       "[4,]  TRUE  TRUE FALSE\n",
       "[5,] FALSE FALSE  TRUE\n",
       "[6,]  TRUE FALSE  TRUE\n",
       "[7,] FALSE  TRUE  TRUE\n",
       "[8,]  TRUE  TRUE  TRUE"
      ]
     },
     "metadata": {},
     "output_type": "display_data"
    }
   ],
   "source": [
    "##turnbits_cir函数用于将十进制转化为p维二进制向量\n",
    "##参数n为十进制数，p为二进制向量维数\n",
    "##输出p维逻辑行向量\n",
    "turnbits_cir = function(n,p){\n",
    "    \n",
    "  z = rep(0,p)           #预留空间\n",
    "  tn = n                 #tn为十进制数值\n",
    "  z[1] = tn%%2           #tn/2的余数为z的第一个值\n",
    "    \n",
    "  for(j in 2:p){         \n",
    "    tn = (tn-z[j-1])/2   #更新tn的值\n",
    "    if(tn == 0) break    #tn=0时跳出循环\n",
    "    z[j] = tn%%2         #z的第j个值为tn/2的余数\n",
    "  }\n",
    "    \n",
    "  as.logical(z)          #将向量z转化为逻辑值\n",
    "}\n",
    "\n",
    "##以p=3为例\n",
    "p = 3\n",
    "# unlist 输出向量\n",
    "\n",
    "Z = matrix(unlist(lapply(0:(2^p-1) , turnbits_cir , p)) ,   #将0：2^p-1转化为p维二进制向量，并按行排列\n",
    "           ncol = p ,byrow = T)\n",
    "Z"
   ]
  },
  {
   "cell_type": "markdown",
   "metadata": {},
   "source": [
    "### 递归法获得矩阵$Z$"
   ]
  },
  {
   "cell_type": "markdown",
   "metadata": {},
   "source": [
    "- 随着p维的增加，矩阵长度依次2倍（矩阵递推关系）"
   ]
  },
  {
   "cell_type": "markdown",
   "metadata": {},
   "source": [
    "- 除了解方程外，我们还可以使用递推公式获得矩阵$Z$。\n",
    "$$\n",
    "\\begin{array}{lc}\n",
    "\\mbox{}&\n",
    "\\begin{array}{cc}p=1 \\end{array}\\\\\n",
    "\\begin{array}{c}0\\\\1\\end{array}&\n",
    "\\left[\\begin{array}{cc}\n",
    "0\\\\\n",
    "1\n",
    "\\end{array}\\right]\n",
    "\\end{array} \\Rightarrow \\begin{array}{lc}\n",
    "\\mbox{}&\n",
    "\\begin{array}{cc}p=2 \\end{array}\\\\\n",
    "\\begin{array}{c}0\\\\2\\\\1\\\\3\\end{array}&\n",
    "\\left[\\begin{array}{cc}\n",
    "0&0\\\\\n",
    "0&1\\\\\n",
    "1&0\\\\\n",
    "1&1\\\\\n",
    "\\end{array}\\right]\n",
    "\\end{array}\\Rightarrow \\begin{array}{lc}\n",
    "\\mbox{}&\n",
    "\\begin{array}{cc}p=3 \\end{array}\\\\\n",
    "\\begin{array}{c}0\\\\4\\\\2\\\\6\\\\1\\\\5\\\\3\\\\7\\end{array}&\n",
    "\\left[\\begin{array}{cc}\n",
    "0&0&0\\\\\n",
    "0&0&1\\\\\n",
    "0&1&0\\\\\n",
    "0&1&1\\\\\n",
    "1&0&0\\\\\n",
    "1&0&1\\\\\n",
    "1&1&0\\\\\n",
    "1&1&1\\\\\n",
    "\\end{array}\\right]\n",
    "\\end{array}\\quad...\\tag{2}$$\n",
    "- 上面$(2)$式中矩阵左侧的数字代表矩阵行向量的十进制数值.\n",
    "- 从$(2)$式中可以看出，给矩阵左侧添加一列$0$得到的向量，其十进制值为原向量的二倍，给矩阵的左侧添加一列$1$得到的向量，其十进制值为原向量的二倍加一.\n",
    "- 给$2^p*p$维$Z$矩阵左侧分别添加一列$0$和$1$，并按行拼接，即可得到$2^{(p+1)}*(p+1)$维$Z$矩阵.\n",
    "- <font face=\"黑体\"> turnbits_rec </font>函数即可实现此功能。"
   ]
  },
  {
   "cell_type": "code",
   "execution_count": 8,
   "metadata": {},
   "outputs": [
    {
     "data": {
      "text/html": [
       "15"
      ],
      "text/latex": [
       "15"
      ],
      "text/markdown": [
       "15"
      ],
      "text/plain": [
       "[1] 15"
      ]
     },
     "metadata": {},
     "output_type": "display_data"
    }
   ],
   "source": [
    "# 所有的循环都可以用递归函数\n",
    "fsum<-function(n){\n",
    "    if(n==1) return(n)\n",
    "    return(fsum(n-1)+n)\n",
    "}\n",
    "fsum(5)#返回1+2+3+4+..."
   ]
  },
  {
   "cell_type": "code",
   "execution_count": 9,
   "metadata": {},
   "outputs": [
    {
     "data": {
      "text/html": [
       "<table>\n",
       "<tbody>\n",
       "\t<tr><td>FALSE</td><td>FALSE</td><td>FALSE</td></tr>\n",
       "\t<tr><td> TRUE</td><td>FALSE</td><td>FALSE</td></tr>\n",
       "\t<tr><td>FALSE</td><td> TRUE</td><td>FALSE</td></tr>\n",
       "\t<tr><td> TRUE</td><td> TRUE</td><td>FALSE</td></tr>\n",
       "\t<tr><td>FALSE</td><td>FALSE</td><td> TRUE</td></tr>\n",
       "\t<tr><td> TRUE</td><td>FALSE</td><td> TRUE</td></tr>\n",
       "\t<tr><td>FALSE</td><td> TRUE</td><td> TRUE</td></tr>\n",
       "\t<tr><td> TRUE</td><td> TRUE</td><td> TRUE</td></tr>\n",
       "</tbody>\n",
       "</table>\n"
      ],
      "text/latex": [
       "\\begin{tabular}{lll}\n",
       "\t FALSE & FALSE & FALSE\\\\\n",
       "\t  TRUE & FALSE & FALSE\\\\\n",
       "\t FALSE &  TRUE & FALSE\\\\\n",
       "\t  TRUE &  TRUE & FALSE\\\\\n",
       "\t FALSE & FALSE &  TRUE\\\\\n",
       "\t  TRUE & FALSE &  TRUE\\\\\n",
       "\t FALSE &  TRUE &  TRUE\\\\\n",
       "\t  TRUE &  TRUE &  TRUE\\\\\n",
       "\\end{tabular}\n"
      ],
      "text/markdown": [
       "\n",
       "| FALSE | FALSE | FALSE | \n",
       "|  TRUE | FALSE | FALSE | \n",
       "| FALSE |  TRUE | FALSE | \n",
       "|  TRUE |  TRUE | FALSE | \n",
       "| FALSE | FALSE |  TRUE | \n",
       "|  TRUE | FALSE |  TRUE | \n",
       "| FALSE |  TRUE |  TRUE | \n",
       "|  TRUE |  TRUE |  TRUE | \n",
       "\n",
       "\n"
      ],
      "text/plain": [
       "     [,1]  [,2]  [,3] \n",
       "[1,] FALSE FALSE FALSE\n",
       "[2,]  TRUE FALSE FALSE\n",
       "[3,] FALSE  TRUE FALSE\n",
       "[4,]  TRUE  TRUE FALSE\n",
       "[5,] FALSE FALSE  TRUE\n",
       "[6,]  TRUE FALSE  TRUE\n",
       "[7,] FALSE  TRUE  TRUE\n",
       "[8,]  TRUE  TRUE  TRUE"
      ]
     },
     "metadata": {},
     "output_type": "display_data"
    }
   ],
   "source": [
    "##turnbits_rec函数用于将[0,2^p-1]中的整数转化为(2^p)*p维逻辑矩阵\n",
    "##输出(2^p)*p维逻辑矩阵\n",
    "p=3\n",
    "turnbits_rec=function(p){\n",
    "    \n",
    "  if(p==1) return (matrix(c(FALSE,TRUE),ncol=1))     #p=1时返回初始值\n",
    "    \n",
    "  return   # 可以把else去掉\n",
    "  (cbind(rbind(turnbits_rec(p-1),turnbits_rec(p-1)), #p≠1时给第p个矩阵左侧分别添加一列0和1\n",
    "                                                     #再按行拼接起来得到第p+1个矩阵\n",
    "         rep(c(FALSE,TRUE),rep(2^(p-1),2))))\n",
    "}\n",
    "\n",
    "Z=turnbits_rec(p)    \n",
    "Z"
   ]
  },
  {
   "cell_type": "markdown",
   "metadata": {},
   "source": [
    "## R语言实现最优子集回归"
   ]
  },
  {
   "cell_type": "markdown",
   "metadata": {},
   "source": [
    "以AIC为比较准测使用<font face=\"黑体\"> bestlm </font>函数实现最优子集回归。"
   ]
  },
  {
   "cell_type": "code",
   "execution_count": 15,
   "metadata": {},
   "outputs": [],
   "source": [
    "##bestlm函数用于进行最优子集回归\n",
    "##参数z为二进制行向量，代表不同的模型，参数dataTR为训练集，dataTE为测试集\n",
    "##dataTR和dataTE应有相同的结构，且因变量在最后一列\n",
    "##输出2*2^p维矩阵，第一行为测试误差，第二行为AIC值，不同列代表不同模型\n",
    "bestlm = function(z, dataTR,dataTE){\n",
    "  \n",
    "  p = dim(dataTR)[2]    #求数据集共有多少列\n",
    "    \n",
    "  yxn = names(dataTR)                              #向量yxn为所有变量的名称\n",
    "    \n",
    "  yn = yxn[p]                                      #定义yn为因变量名称\n",
    "    \n",
    "  xn = yxn[1:(p-1)]                                  #定义向量xn为所有自变量名称\n",
    "    \n",
    "  tm1 = paste(yn,\"~\",sep=\"\")                       #定义tm1为yn~\n",
    "    \n",
    "  {if(sum(z) == 0) tm2 = \"1\"                       #如果自变量个数为0，tm2为1（表示对截距项做回归）\n",
    "   \n",
    "  else tm2 = paste(xn[z] , collapse = \"+\")}#自变量个数不为0，tm2为各自变量名称相加\n",
    "    \n",
    "  fam = formula(paste(tm1, tm2, sep = \"\"))         #将tm1和tm2拼接并转化为公式\n",
    "    \n",
    "  lm1 = lm(fam , dataTR)                           #建立回归模型\n",
    "    \n",
    "  TE = mean((dataTE[,p] - predict(lm1,dataTE))^2)     # *计算测试误差\n",
    "    \n",
    "  AIC = extractAIC(lm(fam,dataTR))[2]              #计算模型AIC值\n",
    "    \n",
    "  c(TE,AIC)                                        #拼接测试误差和AIC值\n",
    "} \n",
    "# dataTE 没有最后一列也可以，（有一样的变量名x1,x2等就可以）"
   ]
  },
  {
   "cell_type": "markdown",
   "metadata": {},
   "source": [
    "## 例子"
   ]
  },
  {
   "cell_type": "markdown",
   "metadata": {},
   "source": [
    "- 接下来，我们用<font face=\"黑体\"> ElemStatLearn </font>包中的<font face=\"黑体\"> prostate </font>数据集进行最优子集回归\n",
    "- <font face=\"黑体\"> prostate </font>是关于前列腺切除手术的数据集，共包含十个变量，其中前八列为自变量，第九列为因变量，第十列是逻辑变量，用于区分训练集与测试集。"
   ]
  },
  {
   "cell_type": "code",
   "execution_count": 14,
   "metadata": {
    "scrolled": true
   },
   "outputs": [
    {
     "data": {
      "text/html": [
       "<ol class=list-inline>\n",
       "\t<li>'lcavol'</li>\n",
       "\t<li>'svi'</li>\n",
       "\t<li>'gleason'</li>\n",
       "</ol>\n"
      ],
      "text/latex": [
       "\\begin{enumerate*}\n",
       "\\item 'lcavol'\n",
       "\\item 'svi'\n",
       "\\item 'gleason'\n",
       "\\end{enumerate*}\n"
      ],
      "text/markdown": [
       "1. 'lcavol'\n",
       "2. 'svi'\n",
       "3. 'gleason'\n",
       "\n",
       "\n"
      ],
      "text/plain": [
       "[1] \"lcavol\"  \"svi\"     \"gleason\""
      ]
     },
     "metadata": {},
     "output_type": "display_data"
    },
    {
     "data": {
      "text/html": [
       "<ol class=list-inline>\n",
       "\t<li>'lcavol'</li>\n",
       "\t<li>'lweight'</li>\n",
       "\t<li>'age'</li>\n",
       "\t<li>'lbph'</li>\n",
       "\t<li>'svi'</li>\n",
       "\t<li>'lcp'</li>\n",
       "\t<li>'pgg45'</li>\n",
       "</ol>\n"
      ],
      "text/latex": [
       "\\begin{enumerate*}\n",
       "\\item 'lcavol'\n",
       "\\item 'lweight'\n",
       "\\item 'age'\n",
       "\\item 'lbph'\n",
       "\\item 'svi'\n",
       "\\item 'lcp'\n",
       "\\item 'pgg45'\n",
       "\\end{enumerate*}\n"
      ],
      "text/markdown": [
       "1. 'lcavol'\n",
       "2. 'lweight'\n",
       "3. 'age'\n",
       "4. 'lbph'\n",
       "5. 'svi'\n",
       "6. 'lcp'\n",
       "7. 'pgg45'\n",
       "\n",
       "\n"
      ],
      "text/plain": [
       "[1] \"lcavol\"  \"lweight\" \"age\"     \"lbph\"    \"svi\"     \"lcp\"     \"pgg45\"  "
      ]
     },
     "metadata": {},
     "output_type": "display_data"
    },
    {
     "data": {
      "text/html": [
       "-39.1028120709561"
      ],
      "text/latex": [
       "-39.1028120709561"
      ],
      "text/markdown": [
       "-39.1028120709561"
      ],
      "text/plain": [
       "[1] -39.10281"
      ]
     },
     "metadata": {},
     "output_type": "display_data"
    },
    {
     "data": {
      "text/html": [
       "<table>\n",
       "<tbody>\n",
       "\t<tr><td> 1.056733  </td><td>  0.4797387</td><td> 1.013428  </td><td>  0.4924823</td><td> 1.128225  </td><td>  0.4818105</td><td> 1.049879  </td><td>  0.4800778</td><td> 1.176626  </td><td>  0.5412412</td><td>...        </td><td> 0.6219652 </td><td>  0.4900704</td><td> 0.8895303 </td><td>  0.587331 </td><td>  0.7778952</td><td>  0.5678184</td><td> 0.8901999 </td><td>  0.5584814</td><td>  0.7544443</td><td>  0.521274 </td></tr>\n",
       "\t<tr><td>26.293061  </td><td>-23.3736091</td><td>10.307136  </td><td>-33.6167964</td><td>24.727855  </td><td>-21.4231914</td><td>11.772160  </td><td>-32.1146884</td><td>23.493027  </td><td>-28.5723735</td><td>...        </td><td>-9.8715258 </td><td>-34.4150179</td><td>-6.1337300 </td><td>-32.170672 </td><td>-13.6013826</td><td>-36.9137213</td><td>-4.1342817 </td><td>-30.9116454</td><td>-12.1179586</td><td>-37.127661 </td></tr>\n",
       "</tbody>\n",
       "</table>\n"
      ],
      "text/latex": [
       "\\begin{tabular}{llllllllllllllllllllllllllllllllllllllllllllllllllllllllllllllllllllllllllllllllllllllllllllllllllllllllllllllllllllllllllllllllllllllllllllllllllllllllllllllllllllllllllllllllllllllllllllllllllllllllllllllllllllllllllllllllllllllllllllllllllllllllllllllll}\n",
       "\t  1.056733   &   0.4797387 &  1.013428   &   0.4924823 &  1.128225   &   0.4818105 &  1.049879   &   0.4800778 &  1.176626   &   0.5412412 & ...         &  0.6219652  &   0.4900704 &  0.8895303  &   0.587331  &   0.7778952 &   0.5678184 &  0.8901999  &   0.5584814 &   0.7544443 &   0.521274 \\\\\n",
       "\t 26.293061   & -23.3736091 & 10.307136   & -33.6167964 & 24.727855   & -21.4231914 & 11.772160   & -32.1146884 & 23.493027   & -28.5723735 & ...         & -9.8715258  & -34.4150179 & -6.1337300  & -32.170672  & -13.6013826 & -36.9137213 & -4.1342817  & -30.9116454 & -12.1179586 & -37.127661 \\\\\n",
       "\\end{tabular}\n"
      ],
      "text/markdown": [
       "\n",
       "|  1.056733   |   0.4797387 |  1.013428   |   0.4924823 |  1.128225   |   0.4818105 |  1.049879   |   0.4800778 |  1.176626   |   0.5412412 | ...         |  0.6219652  |   0.4900704 |  0.8895303  |   0.587331  |   0.7778952 |   0.5678184 |  0.8901999  |   0.5584814 |   0.7544443 |   0.521274  | \n",
       "| 26.293061   | -23.3736091 | 10.307136   | -33.6167964 | 24.727855   | -21.4231914 | 11.772160   | -32.1146884 | 23.493027   | -28.5723735 | ...         | -9.8715258  | -34.4150179 | -6.1337300  | -32.170672  | -13.6013826 | -36.9137213 | -4.1342817  | -30.9116454 | -12.1179586 | -37.127661  | \n",
       "\n",
       "\n"
      ],
      "text/plain": [
       "     [,1]      [,2]        [,3]      [,4]        [,5]      [,6]       \n",
       "[1,]  1.056733   0.4797387  1.013428   0.4924823  1.128225   0.4818105\n",
       "[2,] 26.293061 -23.3736091 10.307136 -33.6167964 24.727855 -21.4231914\n",
       "     [,7]      [,8]        [,9]      [,10]       [,11] [,12]      [,13]      \n",
       "[1,]  1.049879   0.4800778  1.176626   0.5412412 ...    0.6219652   0.4900704\n",
       "[2,] 11.772160 -32.1146884 23.493027 -28.5723735 ...   -9.8715258 -34.4150179\n",
       "     [,14]      [,15]      [,16]       [,17]       [,18]      [,19]      \n",
       "[1,]  0.8895303   0.587331   0.7778952   0.5678184  0.8901999   0.5584814\n",
       "[2,] -6.1337300 -32.170672 -13.6013826 -36.9137213 -4.1342817 -30.9116454\n",
       "     [,20]       [,21]     \n",
       "[1,]   0.7544443   0.521274\n",
       "[2,] -12.1179586 -37.127661"
      ]
     },
     "metadata": {},
     "output_type": "display_data"
    }
   ],
   "source": [
    "library(ElemStatLearn)                     #加载ElemStatLearn包\n",
    "\n",
    "data(prostate)                             #加载prostate数据集\n",
    "\n",
    "data = prostate             \n",
    "\n",
    "p = dim(data)[2]-2                         #计算自变量个数\n",
    "\n",
    "datatr = data[data[,p+2],1:(p+1)]          #获得训练集  \n",
    "\n",
    "datate = data[!data[,p+2],1:(p+1)]         #获得测试集 \n",
    "\n",
    "Z = turnbits_rec(p)                        #计算二进制矩阵\n",
    "\n",
    "mAIC = apply(Z,1,bestlm,datatr,datate)     #进行最优子集回归\n",
    "\n",
    "names(data)[1:p][Z[which.min(mAIC[1,]),]]  #按测试误差最小选出最优模型\n",
    "\n",
    "names(data)[1:p][Z[which.min(mAIC[2,]),]]  #按AIC最小选择最优模型\n",
    "min(mAIC[2,])\n",
    "mAIC"
   ]
  },
  {
   "cell_type": "code",
   "execution_count": 12,
   "metadata": {},
   "outputs": [],
   "source": [
    "# mAIC的图像，x轴表示测试误差，y轴AIC"
   ]
  },
  {
   "cell_type": "code",
   "execution_count": null,
   "metadata": {},
   "outputs": [],
   "source": []
  }
 ],
 "metadata": {
  "kernelspec": {
   "display_name": "R",
   "language": "R",
   "name": "ir"
  },
  "language_info": {
   "codemirror_mode": "r",
   "file_extension": ".r",
   "mimetype": "text/x-r-source",
   "name": "R",
   "pygments_lexer": "r",
   "version": "3.5.1"
  },
  "toc": {
   "nav_menu": {},
   "number_sections": true,
   "sideBar": true,
   "skip_h1_title": true,
   "title_cell": "Table of Contents",
   "title_sidebar": "Contents",
   "toc_cell": true,
   "toc_position": {},
   "toc_section_display": true,
   "toc_window_display": false
  }
 },
 "nbformat": 4,
 "nbformat_minor": 2
}
