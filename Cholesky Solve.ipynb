{
 "cells": [
  {
   "cell_type": "markdown",
   "metadata": {
    "toc": true
   },
   "source": [
    "<h1>Table of Contents<span class=\"tocSkip\"></span></h1>\n",
    "<div class=\"toc\"><ul class=\"toc-item\"><li><span><a href=\"#理论部分：Cholesky分解法\" data-toc-modified-id=\"理论部分：Cholesky分解法-1\"><span class=\"toc-item-num\">1&nbsp;&nbsp;</span>理论部分：Cholesky分解法</a></span><ul class=\"toc-item\"><li><span><a href=\"#Cholesky分解实用算法\" data-toc-modified-id=\"Cholesky分解实用算法-1.1\"><span class=\"toc-item-num\">1.1&nbsp;&nbsp;</span>Cholesky分解实用算法</a></span></li><li><span><a href=\"#前/回代法（Forward/Backward-Substitution）\" data-toc-modified-id=\"前/回代法（Forward/Backward-Substitution）-1.2\"><span class=\"toc-item-num\">1.2&nbsp;&nbsp;</span>前/回代法（Forward/Backward Substitution）</a></span></li></ul></li><li><span><a href=\"#实现代码\" data-toc-modified-id=\"实现代码-2\"><span class=\"toc-item-num\">2&nbsp;&nbsp;</span>实现代码</a></span><ul class=\"toc-item\"><li><span><a href=\"#Cholesky分解\" data-toc-modified-id=\"Cholesky分解-2.1\"><span class=\"toc-item-num\">2.1&nbsp;&nbsp;</span>Cholesky分解</a></span></li><li><span><a href=\"#前/回代法求解\" data-toc-modified-id=\"前/回代法求解-2.2\"><span class=\"toc-item-num\">2.2&nbsp;&nbsp;</span>前/回代法求解</a></span><ul class=\"toc-item\"><li><span><a href=\"#前代法\" data-toc-modified-id=\"前代法-2.2.1\"><span class=\"toc-item-num\">2.2.1&nbsp;&nbsp;</span>前代法</a></span></li><li><span><a href=\"#回代法\" data-toc-modified-id=\"回代法-2.2.2\"><span class=\"toc-item-num\">2.2.2&nbsp;&nbsp;</span>回代法</a></span></li></ul></li></ul></li></ul></div>"
   ]
  },
  {
   "cell_type": "markdown",
   "metadata": {},
   "source": [
    "##  理论部分：Cholesky分解法"
   ]
  },
  {
   "cell_type": "markdown",
   "metadata": {},
   "source": [
    "<font face=\"黑体\"> Cholesky分解法 </font>又称为<font face=\"黑体\">平方根法</font>，是求解对称正定线性方程组最常用的方法之一。<font face=\"黑体\">Cholesky分解定理</font>如下：\n",
    "\n",
    "若$A \\in R^ {n \\times n}$对称正定，则存在一个对角元均为正数的下三角阵$L \\in R^ {n \\times n}$，使得\n",
    "\\begin{equation}\n",
    "A=LL^T.\n",
    "\\end{equation}\n",
    "\n",
    "\n",
    "因此，我们可按如下步骤求解方程组$Ax=b$：\n",
    "(1)计算$A$的Cholesky分解：$A=LL^T$;\n",
    "(2)求解$Ly=b$得$y$;\n",
    "(3)求解$L^Tx=y$得$x$."
   ]
  },
  {
   "cell_type": "markdown",
   "metadata": {},
   "source": [
    "### Cholesky分解实用算法"
   ]
  },
  {
   "cell_type": "markdown",
   "metadata": {},
   "source": [
    "\\begin{equation}\n",
    "A=LL^T.\n",
    "\\end{equation}\n",
    "通常简单而实用的Cholesky分解方法是通过直接比较$A=LL^T$两边的对应元素来计算$L$。设\n",
    "$$L= \\left[\\begin{matrix}l_{11} \\\\ l_{21}& l_{22}\\\\ \\vdots & \\vdots & \\ddots\\\\l_{n1}& l_{n2} & \\cdots & l_{nn}  \\end{matrix}\\right].$$\n",
    "则$LL^T$的元素为\n",
    "$$LL^T= \\left[\\begin{matrix}l_{11} \\\\ l_{21}& l_{22}\\\\ \\vdots&\\vdots&\\ddots\\\\l_{n1}& l_{n2} & \\cdots & l_{nn}  \\end{matrix}\\right]\n",
    "      \\left[\\begin{matrix}l_{11}&l_{21}& \\cdots&l_{n1} \\\\ & l_{22} & \\cdots & l_{n2}\\\\ & & \\ddots&\\vdots\\\\&  & & l_{nn}  \\end{matrix}\\right] =\\left[\\begin{matrix}a_{11}& a_{12}&\\cdots &a_{1n} \\\\ a_{21}& a_{22} & \\cdots& a_{2n}\\\\ \\vdots & \\vdots & \\ddots\\\\a_{n1}& a_{n2} & \\cdots & a_{nn}  \\end{matrix}\\right].$$\n",
    "比较两边元素，有关系式：\n",
    "$$a_{ij}=\\sum_{p=1}^j l_{ip}l_{jp}， \\ 1 \\leq j \\leq i \\leq n.$$\n",
    "可直接计算$L$的第一列元素：\n",
    "$$l_{11}=\\sqrt{a_{11}},$$\n",
    "$$l_{i1}=a_{i1}/l_{11}=a_{i1}/{\\sqrt{a_{11}}}，i=2,…,n.$$\n",
    "进一步地，假定已算出$L$的前$k-1$列元素。由\n",
    "$$a_{kk}=\\sum_{p=1}^k l_{kp}^2,$$\n",
    "则可得\n",
    "$$l_{kk}=(a_{kk}-\\sum_{p=1}^{k-1} l_{kp}^2)^\\frac{1}{2}.$$\n",
    "再由\n",
    "$$a_{ik}=\\sum_{p=1}^{k-1} l_{ip}l_{kp} + l_{ik}l_{kk}, \\ i = k+1,…,n,$$\n",
    "得\n",
    "$$l_{ik}=(a_{ik}-\\sum_{p=1}^{k-1} l_{ip}l_{kp})/l_{kk}, \\ i=k+1,…,n.$$\n",
    "由此便可求出矩阵$L$。\n"
   ]
  },
  {
   "cell_type": "markdown",
   "metadata": {},
   "source": [
    "以上介绍可能过于数学化，下面以一个三阶方阵为例进行说明。设\n",
    "$$L= \\left[\\begin{matrix}l_{11}&0&0 \\\\ l_{21}& l_{22}&0\\\\ l_{31}&l_{32}&l_{33}  \\end{matrix}\\right].$$\n",
    "则$M_1=LL^T$的元素为\n",
    "$$M_1= \\left[\\begin{matrix}l_{11}&0&0 \\\\ l_{21}& l_{22}&0\\\\ l_{31}&l_{32}&l_{33} \\end{matrix}\\right]\n",
    "    \\left[\\begin{matrix}l_{11}&l_{21}&l_{31} \\\\ 0& l_{22}&l_{32}\\\\ 0&0&l_{33}\\end{matrix}\\right]$$\n",
    "$$= \\left[\\begin{matrix}l_{11}^2&l_{11}l_{21}&l_{11}l_{31} \\\\ l_{11}l_{21}& l_{21}^2+l_{22}^2&l_{21}l_{31}+l_{22}l_{32}\\\\ l_{11}l_{31}&l_{31}l_{21}+l_{32}l_{22}&l_{31}^2+l_{32}^2+l_{33}^2 \\end{matrix}\\right]$$\n"
   ]
  },
  {
   "cell_type": "markdown",
   "metadata": {},
   "source": [
    "可以以列为单位求解$L$的元素。根据之前的叙述，$L$的第一列元素可以很容易计算得到。另外，注意到$M_1$删去第一行和第一列后余下的$2 \\times 2$矩阵（记为$M_{12}$）的每一个分量的第一项为\n",
    "$$ \\left[\\begin{matrix} l_{21}^2 & l_{21}l_{31} \\\\ l_{31}l_{21} & l_{31}^2 \\end{matrix}\\right]\n",
    "=\\left[\\begin{matrix} l_{21} & l_{31} \\end{matrix}\\right] \n",
    "\\left[\\begin{matrix} l_{21}\\\\ l_{31}  \\end{matrix}\\right] $$\n",
    "因此，在计算出$L$的第一列元素后，从$M_{12}$中减去上述矩阵，得到$M_2$：\n",
    "$$M_{2}= \\left[\\begin{matrix} l_{22}^2 & l_{22}l_{32} \\\\ l_{32}l_{22} & l_{32}^2+l_{33}^2 \\end{matrix}\\right].$$\n",
    "注意到这与$M_1$的形式完全一致，可以继续计算$L$的第二列，进而求出$L$."
   ]
  },
  {
   "cell_type": "markdown",
   "metadata": {},
   "source": [
    "### 前/回代法（Forward/Backward Substitution）"
   ]
  },
  {
   "cell_type": "markdown",
   "metadata": {},
   "source": [
    "对于方程组$Lx=b$和$Ux=b$（其中$L$和$U$分别是下三角矩阵和上三角矩阵），可以分别采用前代法和回代法求解。此处以下三角矩阵的前代法为例。\n",
    "\n",
    "设方程组$Lx=b$的$L$是已知的非奇异下三角阵（则其主对角线元素非零），则方程组的矩阵形式为：\n",
    "$$\\left[\\begin{matrix}l_{11} \\\\ l_{21}& l_{22}\\\\ \\vdots & \\vdots & \\ddots\\\\l_{n1}& l_{n2} & \\cdots & l_{nn}  \\end{matrix}\\right]\n",
    "\\left[\\begin{matrix}x_1 \\\\ x_2 \\\\ \\vdots\\\\ x_n  \\end{matrix}\\right]\n",
    "=\\left[\\begin{matrix}b_1 \\\\ b_2 \\\\ \\vdots\\\\ b_n  \\end{matrix}\\right].$$\n",
    "则由方程组的第一个方程可得：\n",
    "$$x_1=b_1/l_{11};$$\n",
    "进一步地，如果已求出$x_1,…,x_{i-1}$，就可以根据方程组的第$i$个方程\n",
    "$$l_{i1}x_1+l_{i2}x_2+…+l_{i,i-1}x_{i-1}+l_{ii}x_{i}=b_{i}$$\n",
    "求出\n",
    "$$x_i=(b_i-\\sum_{j=1}^{i-1} l_{ij}x_j)/l_{ii}$$\n",
    "从而可以求出方程组的解。\n",
    "求解上三角方程组的回代法的做法类似。"
   ]
  },
  {
   "cell_type": "markdown",
   "metadata": {},
   "source": [
    "## 实现代码"
   ]
  },
  {
   "cell_type": "markdown",
   "metadata": {},
   "source": [
    "### Cholesky分解"
   ]
  },
  {
   "cell_type": "markdown",
   "metadata": {},
   "source": [
    "mchol函数能够实现对对称正定矩阵的Cholesky分解。它以一个对称正定方阵为参数，返回其Cholesky因子。"
   ]
  },
  {
   "cell_type": "code",
   "execution_count": 4,
   "metadata": {},
   "outputs": [],
   "source": [
    "mchol <- function(x)\n",
    "{\n",
    "  mn <- dim(x)\n",
    "  m <- mn[1]\n",
    "  n <- mn[2]\n",
    "    \n",
    "  #检验传入参数是否符合要求\n",
    "  if(m != n) \n",
    "  {\n",
    "    return (\"Wrong dimensions of matrix!\")\n",
    "  }\n",
    "  if(sum(t(x) != x) > 0) \n",
    "  {\n",
    "    return (\"Input matrix is not symmetrical!\")\n",
    "  }\n",
    "\n",
    "  L <- matrix(0, m, m)\n",
    "  \n",
    "  for(i in 1:m)  #以列为单位求解L\n",
    "  {\n",
    "    L[i,i] <- sqrt(x[i,i])\n",
    "    if(i < m)\n",
    "    {\n",
    "      L[(i+1):m,i] <- x[(i+1):m,i]/L[i,i]\n",
    "\n",
    "      #更新矩阵，便于下一次同样方法计算\n",
    "      TLV <- L[(i+1):m,i]\n",
    "      # TLM <- matrix(TLV, m-i, m-i)\n",
    "      # TLM <- sweep(TLM, 2, TLV, \"*\") \n",
    "      TLM<-outer(TLV,TLV)\n",
    "      x[(i+1):m,(i+1):m] <- x[(i+1):m,(i+1):m] - TLM\n",
    "    }\n",
    "  }\n",
    "  L  \n",
    "}"
   ]
  },
  {
   "cell_type": "code",
   "execution_count": 1,
   "metadata": {
    "scrolled": true
   },
   "outputs": [
    {
     "data": {
      "text/html": [
       "<table>\n",
       "<tbody>\n",
       "\t<tr><td>1 </td><td> 2</td><td> 3</td><td> 4</td><td> 5</td></tr>\n",
       "\t<tr><td>2 </td><td> 4</td><td> 6</td><td> 8</td><td>10</td></tr>\n",
       "\t<tr><td>3 </td><td> 6</td><td> 9</td><td>12</td><td>15</td></tr>\n",
       "\t<tr><td>4 </td><td> 8</td><td>12</td><td>16</td><td>20</td></tr>\n",
       "\t<tr><td>5 </td><td>10</td><td>15</td><td>20</td><td>25</td></tr>\n",
       "</tbody>\n",
       "</table>\n"
      ],
      "text/latex": [
       "\\begin{tabular}{lllll}\n",
       "\t 1  &  2 &  3 &  4 &  5\\\\\n",
       "\t 2  &  4 &  6 &  8 & 10\\\\\n",
       "\t 3  &  6 &  9 & 12 & 15\\\\\n",
       "\t 4  &  8 & 12 & 16 & 20\\\\\n",
       "\t 5  & 10 & 15 & 20 & 25\\\\\n",
       "\\end{tabular}\n"
      ],
      "text/markdown": [
       "\n",
       "| 1  |  2 |  3 |  4 |  5 | \n",
       "| 2  |  4 |  6 |  8 | 10 | \n",
       "| 3  |  6 |  9 | 12 | 15 | \n",
       "| 4  |  8 | 12 | 16 | 20 | \n",
       "| 5  | 10 | 15 | 20 | 25 | \n",
       "\n",
       "\n"
      ],
      "text/plain": [
       "     [,1] [,2] [,3] [,4] [,5]\n",
       "[1,] 1     2    3    4    5  \n",
       "[2,] 2     4    6    8   10  \n",
       "[3,] 3     6    9   12   15  \n",
       "[4,] 4     8   12   16   20  \n",
       "[5,] 5    10   15   20   25  "
      ]
     },
     "metadata": {},
     "output_type": "display_data"
    },
    {
     "data": {
      "text/html": [
       "<table>\n",
       "<tbody>\n",
       "\t<tr><td>1 </td><td> 2</td><td> 3</td><td> 4</td><td> 5</td></tr>\n",
       "\t<tr><td>2 </td><td> 4</td><td> 6</td><td> 8</td><td>10</td></tr>\n",
       "\t<tr><td>3 </td><td> 6</td><td> 9</td><td>12</td><td>15</td></tr>\n",
       "\t<tr><td>4 </td><td> 8</td><td>12</td><td>16</td><td>20</td></tr>\n",
       "\t<tr><td>5 </td><td>10</td><td>15</td><td>20</td><td>25</td></tr>\n",
       "</tbody>\n",
       "</table>\n"
      ],
      "text/latex": [
       "\\begin{tabular}{lllll}\n",
       "\t 1  &  2 &  3 &  4 &  5\\\\\n",
       "\t 2  &  4 &  6 &  8 & 10\\\\\n",
       "\t 3  &  6 &  9 & 12 & 15\\\\\n",
       "\t 4  &  8 & 12 & 16 & 20\\\\\n",
       "\t 5  & 10 & 15 & 20 & 25\\\\\n",
       "\\end{tabular}\n"
      ],
      "text/markdown": [
       "\n",
       "| 1  |  2 |  3 |  4 |  5 | \n",
       "| 2  |  4 |  6 |  8 | 10 | \n",
       "| 3  |  6 |  9 | 12 | 15 | \n",
       "| 4  |  8 | 12 | 16 | 20 | \n",
       "| 5  | 10 | 15 | 20 | 25 | \n",
       "\n",
       "\n"
      ],
      "text/plain": [
       "     [,1] [,2] [,3] [,4] [,5]\n",
       "[1,] 1     2    3    4    5  \n",
       "[2,] 2     4    6    8   10  \n",
       "[3,] 3     6    9   12   15  \n",
       "[4,] 4     8   12   16   20  \n",
       "[5,] 5    10   15   20   25  "
      ]
     },
     "metadata": {},
     "output_type": "display_data"
    },
    {
     "data": {
      "text/html": [
       "<table>\n",
       "<thead><tr><th scope=col>Kyphosis</th><th scope=col>Age</th><th scope=col>Number</th><th scope=col>Start</th></tr></thead>\n",
       "<tbody>\n",
       "\t<tr><td>absent </td><td> 71    </td><td>3      </td><td> 5     </td></tr>\n",
       "\t<tr><td>absent </td><td>158    </td><td>3      </td><td>14     </td></tr>\n",
       "\t<tr><td>present</td><td>128    </td><td>4      </td><td> 5     </td></tr>\n",
       "\t<tr><td>absent </td><td>  2    </td><td>5      </td><td> 1     </td></tr>\n",
       "\t<tr><td>absent </td><td>  1    </td><td>4      </td><td>15     </td></tr>\n",
       "\t<tr><td>absent </td><td>  1    </td><td>2      </td><td>16     </td></tr>\n",
       "\t<tr><td>absent </td><td> 61    </td><td>2      </td><td>17     </td></tr>\n",
       "\t<tr><td>absent </td><td> 37    </td><td>3      </td><td>16     </td></tr>\n",
       "\t<tr><td>absent </td><td>113    </td><td>2      </td><td>16     </td></tr>\n",
       "\t<tr><td>present</td><td> 59    </td><td>6      </td><td>12     </td></tr>\n",
       "\t<tr><td>present</td><td> 82    </td><td>5      </td><td>14     </td></tr>\n",
       "\t<tr><td>absent </td><td>148    </td><td>3      </td><td>16     </td></tr>\n",
       "\t<tr><td>absent </td><td> 18    </td><td>5      </td><td> 2     </td></tr>\n",
       "\t<tr><td>absent </td><td>  1    </td><td>4      </td><td>12     </td></tr>\n",
       "\t<tr><td>absent </td><td>168    </td><td>3      </td><td>18     </td></tr>\n",
       "\t<tr><td>absent </td><td>  1    </td><td>3      </td><td>16     </td></tr>\n",
       "\t<tr><td>absent </td><td> 78    </td><td>6      </td><td>15     </td></tr>\n",
       "\t<tr><td>absent </td><td>175    </td><td>5      </td><td>13     </td></tr>\n",
       "\t<tr><td>absent </td><td> 80    </td><td>5      </td><td>16     </td></tr>\n",
       "\t<tr><td>absent </td><td> 27    </td><td>4      </td><td> 9     </td></tr>\n",
       "\t<tr><td>absent </td><td> 22    </td><td>2      </td><td>16     </td></tr>\n",
       "\t<tr><td>present</td><td>105    </td><td>6      </td><td> 5     </td></tr>\n",
       "\t<tr><td>present</td><td> 96    </td><td>3      </td><td>12     </td></tr>\n",
       "\t<tr><td>absent </td><td>131    </td><td>2      </td><td> 3     </td></tr>\n",
       "\t<tr><td>present</td><td> 15    </td><td>7      </td><td> 2     </td></tr>\n",
       "\t<tr><td>absent </td><td>  9    </td><td>5      </td><td>13     </td></tr>\n",
       "\t<tr><td>absent </td><td>  8    </td><td>3      </td><td> 6     </td></tr>\n",
       "\t<tr><td>absent </td><td>100    </td><td>3      </td><td>14     </td></tr>\n",
       "\t<tr><td>absent </td><td>  4    </td><td>3      </td><td>16     </td></tr>\n",
       "\t<tr><td>absent </td><td>151    </td><td>2      </td><td>16     </td></tr>\n",
       "\t<tr><td>...</td><td>...</td><td>...</td><td>...</td></tr>\n",
       "\t<tr><td>absent </td><td>  9    </td><td> 2     </td><td>17     </td></tr>\n",
       "\t<tr><td>present</td><td>139    </td><td>10     </td><td> 6     </td></tr>\n",
       "\t<tr><td>absent </td><td>  2    </td><td> 2     </td><td>17     </td></tr>\n",
       "\t<tr><td>absent </td><td>140    </td><td> 4     </td><td>15     </td></tr>\n",
       "\t<tr><td>absent </td><td> 72    </td><td> 5     </td><td>15     </td></tr>\n",
       "\t<tr><td>absent </td><td>  2    </td><td> 3     </td><td>13     </td></tr>\n",
       "\t<tr><td>present</td><td>120    </td><td> 5     </td><td> 8     </td></tr>\n",
       "\t<tr><td>absent </td><td> 51    </td><td> 7     </td><td> 9     </td></tr>\n",
       "\t<tr><td>absent </td><td>102    </td><td> 3     </td><td>13     </td></tr>\n",
       "\t<tr><td>present</td><td>130    </td><td> 4     </td><td> 1     </td></tr>\n",
       "\t<tr><td>present</td><td>114    </td><td> 7     </td><td> 8     </td></tr>\n",
       "\t<tr><td>absent </td><td> 81    </td><td> 4     </td><td> 1     </td></tr>\n",
       "\t<tr><td>absent </td><td>118    </td><td> 3     </td><td>16     </td></tr>\n",
       "\t<tr><td>absent </td><td>118    </td><td> 4     </td><td>16     </td></tr>\n",
       "\t<tr><td>absent </td><td> 17    </td><td> 4     </td><td>10     </td></tr>\n",
       "\t<tr><td>absent </td><td>195    </td><td> 2     </td><td>17     </td></tr>\n",
       "\t<tr><td>absent </td><td>159    </td><td> 4     </td><td>13     </td></tr>\n",
       "\t<tr><td>absent </td><td> 18    </td><td> 4     </td><td>11     </td></tr>\n",
       "\t<tr><td>absent </td><td> 15    </td><td> 5     </td><td>16     </td></tr>\n",
       "\t<tr><td>absent </td><td>158    </td><td> 5     </td><td>14     </td></tr>\n",
       "\t<tr><td>absent </td><td>127    </td><td> 4     </td><td>12     </td></tr>\n",
       "\t<tr><td>absent </td><td> 87    </td><td> 4     </td><td>16     </td></tr>\n",
       "\t<tr><td>absent </td><td>206    </td><td> 4     </td><td>10     </td></tr>\n",
       "\t<tr><td>absent </td><td> 11    </td><td> 3     </td><td>15     </td></tr>\n",
       "\t<tr><td>absent </td><td>178    </td><td> 4     </td><td>15     </td></tr>\n",
       "\t<tr><td>present</td><td>157    </td><td> 3     </td><td>13     </td></tr>\n",
       "\t<tr><td>absent </td><td> 26    </td><td> 7     </td><td>13     </td></tr>\n",
       "\t<tr><td>absent </td><td>120    </td><td> 2     </td><td>13     </td></tr>\n",
       "\t<tr><td>present</td><td> 42    </td><td> 7     </td><td> 6     </td></tr>\n",
       "\t<tr><td>absent </td><td> 36    </td><td> 4     </td><td>13     </td></tr>\n",
       "</tbody>\n",
       "</table>\n"
      ],
      "text/latex": [
       "\\begin{tabular}{r|llll}\n",
       " Kyphosis & Age & Number & Start\\\\\n",
       "\\hline\n",
       "\t absent  &  71     & 3       &  5     \\\\\n",
       "\t absent  & 158     & 3       & 14     \\\\\n",
       "\t present & 128     & 4       &  5     \\\\\n",
       "\t absent  &   2     & 5       &  1     \\\\\n",
       "\t absent  &   1     & 4       & 15     \\\\\n",
       "\t absent  &   1     & 2       & 16     \\\\\n",
       "\t absent  &  61     & 2       & 17     \\\\\n",
       "\t absent  &  37     & 3       & 16     \\\\\n",
       "\t absent  & 113     & 2       & 16     \\\\\n",
       "\t present &  59     & 6       & 12     \\\\\n",
       "\t present &  82     & 5       & 14     \\\\\n",
       "\t absent  & 148     & 3       & 16     \\\\\n",
       "\t absent  &  18     & 5       &  2     \\\\\n",
       "\t absent  &   1     & 4       & 12     \\\\\n",
       "\t absent  & 168     & 3       & 18     \\\\\n",
       "\t absent  &   1     & 3       & 16     \\\\\n",
       "\t absent  &  78     & 6       & 15     \\\\\n",
       "\t absent  & 175     & 5       & 13     \\\\\n",
       "\t absent  &  80     & 5       & 16     \\\\\n",
       "\t absent  &  27     & 4       &  9     \\\\\n",
       "\t absent  &  22     & 2       & 16     \\\\\n",
       "\t present & 105     & 6       &  5     \\\\\n",
       "\t present &  96     & 3       & 12     \\\\\n",
       "\t absent  & 131     & 2       &  3     \\\\\n",
       "\t present &  15     & 7       &  2     \\\\\n",
       "\t absent  &   9     & 5       & 13     \\\\\n",
       "\t absent  &   8     & 3       &  6     \\\\\n",
       "\t absent  & 100     & 3       & 14     \\\\\n",
       "\t absent  &   4     & 3       & 16     \\\\\n",
       "\t absent  & 151     & 2       & 16     \\\\\n",
       "\t ... & ... & ... & ...\\\\\n",
       "\t absent  &   9     &  2      & 17     \\\\\n",
       "\t present & 139     & 10      &  6     \\\\\n",
       "\t absent  &   2     &  2      & 17     \\\\\n",
       "\t absent  & 140     &  4      & 15     \\\\\n",
       "\t absent  &  72     &  5      & 15     \\\\\n",
       "\t absent  &   2     &  3      & 13     \\\\\n",
       "\t present & 120     &  5      &  8     \\\\\n",
       "\t absent  &  51     &  7      &  9     \\\\\n",
       "\t absent  & 102     &  3      & 13     \\\\\n",
       "\t present & 130     &  4      &  1     \\\\\n",
       "\t present & 114     &  7      &  8     \\\\\n",
       "\t absent  &  81     &  4      &  1     \\\\\n",
       "\t absent  & 118     &  3      & 16     \\\\\n",
       "\t absent  & 118     &  4      & 16     \\\\\n",
       "\t absent  &  17     &  4      & 10     \\\\\n",
       "\t absent  & 195     &  2      & 17     \\\\\n",
       "\t absent  & 159     &  4      & 13     \\\\\n",
       "\t absent  &  18     &  4      & 11     \\\\\n",
       "\t absent  &  15     &  5      & 16     \\\\\n",
       "\t absent  & 158     &  5      & 14     \\\\\n",
       "\t absent  & 127     &  4      & 12     \\\\\n",
       "\t absent  &  87     &  4      & 16     \\\\\n",
       "\t absent  & 206     &  4      & 10     \\\\\n",
       "\t absent  &  11     &  3      & 15     \\\\\n",
       "\t absent  & 178     &  4      & 15     \\\\\n",
       "\t present & 157     &  3      & 13     \\\\\n",
       "\t absent  &  26     &  7      & 13     \\\\\n",
       "\t absent  & 120     &  2      & 13     \\\\\n",
       "\t present &  42     &  7      &  6     \\\\\n",
       "\t absent  &  36     &  4      & 13     \\\\\n",
       "\\end{tabular}\n"
      ],
      "text/markdown": [
       "\n",
       "Kyphosis | Age | Number | Start | \n",
       "|---|---|---|---|---|---|---|---|---|---|---|---|---|---|---|---|---|---|---|---|---|---|---|---|---|---|---|---|---|---|---|---|---|---|---|---|---|---|---|---|---|---|---|---|---|---|---|---|---|---|---|---|---|---|---|---|---|---|---|---|---|\n",
       "| absent  |  71     | 3       |  5      | \n",
       "| absent  | 158     | 3       | 14      | \n",
       "| present | 128     | 4       |  5      | \n",
       "| absent  |   2     | 5       |  1      | \n",
       "| absent  |   1     | 4       | 15      | \n",
       "| absent  |   1     | 2       | 16      | \n",
       "| absent  |  61     | 2       | 17      | \n",
       "| absent  |  37     | 3       | 16      | \n",
       "| absent  | 113     | 2       | 16      | \n",
       "| present |  59     | 6       | 12      | \n",
       "| present |  82     | 5       | 14      | \n",
       "| absent  | 148     | 3       | 16      | \n",
       "| absent  |  18     | 5       |  2      | \n",
       "| absent  |   1     | 4       | 12      | \n",
       "| absent  | 168     | 3       | 18      | \n",
       "| absent  |   1     | 3       | 16      | \n",
       "| absent  |  78     | 6       | 15      | \n",
       "| absent  | 175     | 5       | 13      | \n",
       "| absent  |  80     | 5       | 16      | \n",
       "| absent  |  27     | 4       |  9      | \n",
       "| absent  |  22     | 2       | 16      | \n",
       "| present | 105     | 6       |  5      | \n",
       "| present |  96     | 3       | 12      | \n",
       "| absent  | 131     | 2       |  3      | \n",
       "| present |  15     | 7       |  2      | \n",
       "| absent  |   9     | 5       | 13      | \n",
       "| absent  |   8     | 3       |  6      | \n",
       "| absent  | 100     | 3       | 14      | \n",
       "| absent  |   4     | 3       | 16      | \n",
       "| absent  | 151     | 2       | 16      | \n",
       "| ... | ... | ... | ... | \n",
       "| absent  |   9     |  2      | 17      | \n",
       "| present | 139     | 10      |  6      | \n",
       "| absent  |   2     |  2      | 17      | \n",
       "| absent  | 140     |  4      | 15      | \n",
       "| absent  |  72     |  5      | 15      | \n",
       "| absent  |   2     |  3      | 13      | \n",
       "| present | 120     |  5      |  8      | \n",
       "| absent  |  51     |  7      |  9      | \n",
       "| absent  | 102     |  3      | 13      | \n",
       "| present | 130     |  4      |  1      | \n",
       "| present | 114     |  7      |  8      | \n",
       "| absent  |  81     |  4      |  1      | \n",
       "| absent  | 118     |  3      | 16      | \n",
       "| absent  | 118     |  4      | 16      | \n",
       "| absent  |  17     |  4      | 10      | \n",
       "| absent  | 195     |  2      | 17      | \n",
       "| absent  | 159     |  4      | 13      | \n",
       "| absent  |  18     |  4      | 11      | \n",
       "| absent  |  15     |  5      | 16      | \n",
       "| absent  | 158     |  5      | 14      | \n",
       "| absent  | 127     |  4      | 12      | \n",
       "| absent  |  87     |  4      | 16      | \n",
       "| absent  | 206     |  4      | 10      | \n",
       "| absent  |  11     |  3      | 15      | \n",
       "| absent  | 178     |  4      | 15      | \n",
       "| present | 157     |  3      | 13      | \n",
       "| absent  |  26     |  7      | 13      | \n",
       "| absent  | 120     |  2      | 13      | \n",
       "| present |  42     |  7      |  6      | \n",
       "| absent  |  36     |  4      | 13      | \n",
       "\n",
       "\n"
      ],
      "text/plain": [
       "    Kyphosis Age Number Start\n",
       "1   absent    71 3       5   \n",
       "2   absent   158 3      14   \n",
       "3   present  128 4       5   \n",
       "4   absent     2 5       1   \n",
       "5   absent     1 4      15   \n",
       "6   absent     1 2      16   \n",
       "7   absent    61 2      17   \n",
       "8   absent    37 3      16   \n",
       "9   absent   113 2      16   \n",
       "10  present   59 6      12   \n",
       "11  present   82 5      14   \n",
       "12  absent   148 3      16   \n",
       "13  absent    18 5       2   \n",
       "14  absent     1 4      12   \n",
       "15  absent   168 3      18   \n",
       "16  absent     1 3      16   \n",
       "17  absent    78 6      15   \n",
       "18  absent   175 5      13   \n",
       "19  absent    80 5      16   \n",
       "20  absent    27 4       9   \n",
       "21  absent    22 2      16   \n",
       "22  present  105 6       5   \n",
       "23  present   96 3      12   \n",
       "24  absent   131 2       3   \n",
       "25  present   15 7       2   \n",
       "26  absent     9 5      13   \n",
       "27  absent     8 3       6   \n",
       "28  absent   100 3      14   \n",
       "29  absent     4 3      16   \n",
       "30  absent   151 2      16   \n",
       "... ...      ... ...    ...  \n",
       "52  absent     9  2     17   \n",
       "53  present  139 10      6   \n",
       "54  absent     2  2     17   \n",
       "55  absent   140  4     15   \n",
       "56  absent    72  5     15   \n",
       "57  absent     2  3     13   \n",
       "58  present  120  5      8   \n",
       "59  absent    51  7      9   \n",
       "60  absent   102  3     13   \n",
       "61  present  130  4      1   \n",
       "62  present  114  7      8   \n",
       "63  absent    81  4      1   \n",
       "64  absent   118  3     16   \n",
       "65  absent   118  4     16   \n",
       "66  absent    17  4     10   \n",
       "67  absent   195  2     17   \n",
       "68  absent   159  4     13   \n",
       "69  absent    18  4     11   \n",
       "70  absent    15  5     16   \n",
       "71  absent   158  5     14   \n",
       "72  absent   127  4     12   \n",
       "73  absent    87  4     16   \n",
       "74  absent   206  4     10   \n",
       "75  absent    11  3     15   \n",
       "76  absent   178  4     15   \n",
       "77  present  157  3     13   \n",
       "78  absent    26  7     13   \n",
       "79  absent   120  2     13   \n",
       "80  present   42  7      6   \n",
       "81  absent    36  4     13   "
      ]
     },
     "metadata": {},
     "output_type": "display_data"
    },
    {
     "data": {
      "text/plain": [
       "kyphosis[, 1]: absent\n",
       "     Age   Number    Start \n",
       "79.89062  3.75000 12.60938 \n",
       "------------------------------------------------------------ \n",
       "kyphosis[, 1]: present\n",
       "      Age    Number     Start \n",
       "97.823529  5.176471  7.294118 "
      ]
     },
     "metadata": {},
     "output_type": "display_data"
    },
    {
     "data": {
      "text/plain": [
       "\n",
       "Call:\n",
       "\tdensity.default(x = kyphosis[kyphosis[, 1] == \"absent\", 2])\n",
       "\n",
       "Data: kyphosis[kyphosis[, 1] == \"absent\", 2] (64 obs.);\tBandwidth 'bw' = 24.23\n",
       "\n",
       "       x               y            \n",
       " Min.   :-71.7   Min.   :3.683e-06  \n",
       " 1st Qu.: 15.9   1st Qu.:5.991e-04  \n",
       " Median :103.5   Median :3.630e-03  \n",
       " Mean   :103.5   Mean   :2.850e-03  \n",
       " 3rd Qu.:191.1   3rd Qu.:4.575e-03  \n",
       " Max.   :278.7   Max.   :5.970e-03  "
      ]
     },
     "metadata": {},
     "output_type": "display_data"
    },
    {
     "data": {
      "image/png": "[encoded data removed]",
      "text/plain": [
       "Plot with title \"density.default(x = kyphosis[kyphosis[, 1] == \"absent\", 2])\""
      ]
     },
     "metadata": {},
     "output_type": "display_data"
    }
   ],
   "source": [
    "# 关于sweep\n",
    "a<-matrix(1:5,5,5)\n",
    "# (1:5) %*% t(1:5)\n",
    "outer(1:5,1:5)\n",
    "sweep(a,2,1:5,\"*\")# 2按列的方向扫\n",
    "# 还有apply ，by熟练运用\n",
    "library(rpart)\n",
    "kyphosis\n",
    "# 不适合判别分析，不是正态分布\n",
    "by(kyphosis[,2:4],kyphosis[,1],colMeans)\n",
    "density(kyphosis[kyphosis[,1]==\"absent\",2])\n",
    "plot(density(kyphosis[kyphosis[,1]==\"absent\",2]))"
   ]
  },
  {
   "cell_type": "markdown",
   "metadata": {},
   "source": [
    "下面是这个函数使用的一个例子。"
   ]
  },
  {
   "cell_type": "code",
   "execution_count": 5,
   "metadata": {},
   "outputs": [
    {
     "name": "stdout",
     "output_type": "stream",
     "text": [
      "            [,1]       [,2]       [,3]       [,4]\n",
      "[1,] -1.19764428 -0.9235326 -1.0831422  1.1628045\n",
      "[2,]  1.03813351 -1.4686837  2.8729055 -0.1859395\n",
      "[3,] -0.07854828  0.2558301 -0.7924547  0.1727580\n",
      "[4,] -0.17775635  0.1333315  1.3444363 -0.9522467\n",
      "[5,] -1.36485661 -0.4772961  0.2908733 -1.9190851\n",
      "         [,1]        [,2]      [,3]        [,4]\n",
      "[1,] 4.412674  0.18901903  3.705942  1.18931794\n",
      "[2,] 0.189019  3.32098210 -3.381383  0.03240238\n",
      "[3,] 3.705942 -3.38138290 11.946884 -3.76901763\n",
      "[4,] 1.189318  0.03240238 -3.769018  6.00619456\n"
     ]
    },
    {
     "data": {
      "text/html": [
       "<table>\n",
       "<tbody>\n",
       "\t<tr><td>2.10063651 </td><td> 0.00000000</td><td> 0.000000  </td><td>0.000000   </td></tr>\n",
       "\t<tr><td>0.08998179 </td><td> 1.82013334</td><td> 0.000000  </td><td>0.000000   </td></tr>\n",
       "\t<tr><td>1.76419963 </td><td>-1.94498318</td><td> 2.247560  </td><td>0.000000   </td></tr>\n",
       "\t<tr><td>0.56617027 </td><td>-0.01018751</td><td>-2.130164  </td><td>1.071422   </td></tr>\n",
       "</tbody>\n",
       "</table>\n"
      ],
      "text/latex": [
       "\\begin{tabular}{llll}\n",
       "\t 2.10063651  &  0.00000000 &  0.000000   & 0.000000   \\\\\n",
       "\t 0.08998179  &  1.82013334 &  0.000000   & 0.000000   \\\\\n",
       "\t 1.76419963  & -1.94498318 &  2.247560   & 0.000000   \\\\\n",
       "\t 0.56617027  & -0.01018751 & -2.130164   & 1.071422   \\\\\n",
       "\\end{tabular}\n"
      ],
      "text/markdown": [
       "\n",
       "| 2.10063651  |  0.00000000 |  0.000000   | 0.000000    | \n",
       "| 0.08998179  |  1.82013334 |  0.000000   | 0.000000    | \n",
       "| 1.76419963  | -1.94498318 |  2.247560   | 0.000000    | \n",
       "| 0.56617027  | -0.01018751 | -2.130164   | 1.071422    | \n",
       "\n",
       "\n"
      ],
      "text/plain": [
       "     [,1]       [,2]        [,3]      [,4]    \n",
       "[1,] 2.10063651  0.00000000  0.000000 0.000000\n",
       "[2,] 0.08998179  1.82013334  0.000000 0.000000\n",
       "[3,] 1.76419963 -1.94498318  2.247560 0.000000\n",
       "[4,] 0.56617027 -0.01018751 -2.130164 1.071422"
      ]
     },
     "metadata": {},
     "output_type": "display_data"
    }
   ],
   "source": [
    "y=matrix(rnorm(20),5)\n",
    "print(y)\n",
    "x=t(y)%*%y  #构造对称正定矩阵\n",
    "print(x)\n",
    "mchol(x)"
   ]
  },
  {
   "cell_type": "markdown",
   "metadata": {},
   "source": [
    "### 前/回代法求解"
   ]
  },
  {
   "cell_type": "markdown",
   "metadata": {},
   "source": [
    "#### 前代法"
   ]
  },
  {
   "cell_type": "markdown",
   "metadata": {},
   "source": [
    "> mforward()以方程组的系数矩阵（下三角矩阵）和右端常数项为参数，使用前代法求解方程组，返回方程组的解。"
   ]
  },
  {
   "cell_type": "code",
   "execution_count": 6,
   "metadata": {},
   "outputs": [],
   "source": [
    "mforwardsolve=function(L,b){\n",
    "  mn=dim(L); m=mn[1]; n=mn[2]\n",
    "  if(m!=n) return (\"Wrong dimensions of matrix L!\")\n",
    "  if(m!=length(b)) return (\"Wrong dimensions of matrix L or vector b!\") #检查输入参数是否符合要求\n",
    "  x=rep(0,m)\n",
    "  for(i in 1:m){\n",
    "    x[i]=b[i]/L[i,i]\n",
    "    if(i<m) b[(i+1):m]=b[(i+1):m]-x[i]*L[(i+1):m,i]   #更新右端项，逐步减去已求出的未知量对右端项的贡献   \n",
    "  }\n",
    "  x  \n",
    "}"
   ]
  },
  {
   "cell_type": "markdown",
   "metadata": {},
   "source": [
    "下面是使用mforward()的一个例子。"
   ]
  },
  {
   "cell_type": "code",
   "execution_count": 7,
   "metadata": {},
   "outputs": [
    {
     "data": {
      "text/html": [
       "<ol class=list-inline>\n",
       "\t<li>0.434213815616578</li>\n",
       "\t<li>0.830686880733128</li>\n",
       "\t<li>2.05152861608549</li>\n",
       "\t<li>2.51952840446848</li>\n",
       "</ol>\n"
      ],
      "text/latex": [
       "\\begin{enumerate*}\n",
       "\\item 0.434213815616578\n",
       "\\item 0.830686880733128\n",
       "\\item 2.05152861608549\n",
       "\\item 2.51952840446848\n",
       "\\end{enumerate*}\n"
      ],
      "text/markdown": [
       "1. 0.434213815616578\n",
       "2. 0.830686880733128\n",
       "3. 2.05152861608549\n",
       "4. 2.51952840446848\n",
       "\n",
       "\n"
      ],
      "text/plain": [
       "[1] 0.4342138 0.8306869 2.0515286 2.5195284"
      ]
     },
     "metadata": {},
     "output_type": "display_data"
    },
    {
     "data": {
      "text/html": [
       "<ol class=list-inline>\n",
       "\t<li>0.434213815616578</li>\n",
       "\t<li>0.830686880733128</li>\n",
       "\t<li>2.05152861608549</li>\n",
       "\t<li>2.51952840446848</li>\n",
       "</ol>\n"
      ],
      "text/latex": [
       "\\begin{enumerate*}\n",
       "\\item 0.434213815616578\n",
       "\\item 0.830686880733128\n",
       "\\item 2.05152861608549\n",
       "\\item 2.51952840446848\n",
       "\\end{enumerate*}\n"
      ],
      "text/markdown": [
       "1. 0.434213815616578\n",
       "2. 0.830686880733128\n",
       "3. 2.05152861608549\n",
       "4. 2.51952840446848\n",
       "\n",
       "\n"
      ],
      "text/plain": [
       "[1] 0.4342138 0.8306869 2.0515286 2.5195284"
      ]
     },
     "metadata": {},
     "output_type": "display_data"
    }
   ],
   "source": [
    "y=matrix(rnorm(20),5)\n",
    "x=t(y)%*%y\n",
    "L=mchol(x); b=1:4\n",
    "mforwardsolve(L,b)\n",
    "forwardsolve(L,b) #R语言中自带函数的求解结果"
   ]
  },
  {
   "cell_type": "markdown",
   "metadata": {},
   "source": [
    "#### 回代法"
   ]
  },
  {
   "cell_type": "markdown",
   "metadata": {},
   "source": [
    "mbacksolve()以方程组的系数矩阵（上三角矩阵）和右端常数项为参数，使用回代法求解方程组，返回方程组的解。"
   ]
  },
  {
   "cell_type": "code",
   "execution_count": 210,
   "metadata": {},
   "outputs": [],
   "source": [
    "mbacksolve=function(L,b){\n",
    "  mn=dim(L); m=mn[1]; n=mn[2]\n",
    "  if(m!=n) return (\"Wrong dimensions of matrix L!\")\n",
    "  if(m!=length(b)) return (\"Wrong dimensions of matrix L or vector b!\") #检查输入参数是否符合要求\n",
    "  x=rep(0,m)\n",
    "  for(i in m:1){\n",
    "    x[i]=b[i]/L[i,i]\n",
    "    if(i>1) b[(i-1):1]=b[(i-1):1]-x[i]*L[(i-1):1,i]   #更新右端项   \n",
    "  }\n",
    "  x  \n",
    "}"
   ]
  },
  {
   "cell_type": "markdown",
   "metadata": {},
   "source": [
    "下面是使用mbacksolved()的一个例子"
   ]
  },
  {
   "cell_type": "code",
   "execution_count": 211,
   "metadata": {},
   "outputs": [
    {
     "data": {
      "text/html": [
       "<ol class=list-inline>\n",
       "\t<li>0.477429363746277</li>\n",
       "\t<li>1.71027876507398</li>\n",
       "\t<li>1.76663758174287</li>\n",
       "\t<li>0.324858942983126</li>\n",
       "</ol>\n"
      ],
      "text/latex": [
       "\\begin{enumerate*}\n",
       "\\item 0.477429363746277\n",
       "\\item 1.71027876507398\n",
       "\\item 1.76663758174287\n",
       "\\item 0.324858942983126\n",
       "\\end{enumerate*}\n"
      ],
      "text/markdown": [
       "1. 0.477429363746277\n",
       "2. 1.71027876507398\n",
       "3. 1.76663758174287\n",
       "4. 0.324858942983126\n",
       "\n",
       "\n"
      ],
      "text/plain": [
       "[1] 0.4774294 1.7102788 1.7666376 0.3248589"
      ]
     },
     "metadata": {},
     "output_type": "display_data"
    },
    {
     "data": {
      "text/html": [
       "<ol class=list-inline>\n",
       "\t<li>0.477429363746277</li>\n",
       "\t<li>1.71027876507398</li>\n",
       "\t<li>1.76663758174287</li>\n",
       "\t<li>0.324858942983126</li>\n",
       "</ol>\n"
      ],
      "text/latex": [
       "\\begin{enumerate*}\n",
       "\\item 0.477429363746277\n",
       "\\item 1.71027876507398\n",
       "\\item 1.76663758174287\n",
       "\\item 0.324858942983126\n",
       "\\end{enumerate*}\n"
      ],
      "text/markdown": [
       "1. 0.477429363746277\n",
       "2. 1.71027876507398\n",
       "3. 1.76663758174287\n",
       "4. 0.324858942983126\n",
       "\n",
       "\n"
      ],
      "text/plain": [
       "[1] 0.4774294 1.7102788 1.7666376 0.3248589"
      ]
     },
     "metadata": {},
     "output_type": "display_data"
    }
   ],
   "source": [
    "y=matrix(rnorm(20),5)\n",
    "x=t(y)%*%y\n",
    "L=mchol(x); b=1:4\n",
    "mforwardsolve(L,b)\n",
    "forwardsolve(L,b)  #R语言自带函数的求解结果"
   ]
  },
  {
   "cell_type": "code",
   "execution_count": 212,
   "metadata": {},
   "outputs": [
    {
     "data": {
      "text/html": [
       "<table>\n",
       "<tbody>\n",
       "\t<tr><td> 3.7456220 </td><td> 0.00000000</td><td> 0.00000000</td><td> 0.0000000 </td><td> 0.0000000 </td><td>0.000000   </td></tr>\n",
       "\t<tr><td> 0.9333329 </td><td> 1.54142901</td><td> 0.00000000</td><td> 0.0000000 </td><td> 0.0000000 </td><td>0.000000   </td></tr>\n",
       "\t<tr><td>-0.7742513 </td><td>-0.51364899</td><td> 3.07836426</td><td> 0.0000000 </td><td> 0.0000000 </td><td>0.000000   </td></tr>\n",
       "\t<tr><td>-1.3936391 </td><td>-0.25990256</td><td>-0.04857242</td><td> 1.4416501 </td><td> 0.0000000 </td><td>0.000000   </td></tr>\n",
       "\t<tr><td>-1.3442642 </td><td> 0.00874392</td><td>-0.79996526</td><td>-2.0763831 </td><td> 1.7163722 </td><td>0.000000   </td></tr>\n",
       "\t<tr><td>-0.2256916 </td><td>-1.53087098</td><td>-1.72331470</td><td>-0.5223903 </td><td>-0.8968716 </td><td>1.447343   </td></tr>\n",
       "</tbody>\n",
       "</table>\n"
      ],
      "text/latex": [
       "\\begin{tabular}{llllll}\n",
       "\t  3.7456220  &  0.00000000 &  0.00000000 &  0.0000000  &  0.0000000  & 0.000000   \\\\\n",
       "\t  0.9333329  &  1.54142901 &  0.00000000 &  0.0000000  &  0.0000000  & 0.000000   \\\\\n",
       "\t -0.7742513  & -0.51364899 &  3.07836426 &  0.0000000  &  0.0000000  & 0.000000   \\\\\n",
       "\t -1.3936391  & -0.25990256 & -0.04857242 &  1.4416501  &  0.0000000  & 0.000000   \\\\\n",
       "\t -1.3442642  &  0.00874392 & -0.79996526 & -2.0763831  &  1.7163722  & 0.000000   \\\\\n",
       "\t -0.2256916  & -1.53087098 & -1.72331470 & -0.5223903  & -0.8968716  & 1.447343   \\\\\n",
       "\\end{tabular}\n"
      ],
      "text/markdown": [
       "\n",
       "|  3.7456220  |  0.00000000 |  0.00000000 |  0.0000000  |  0.0000000  | 0.000000    | \n",
       "|  0.9333329  |  1.54142901 |  0.00000000 |  0.0000000  |  0.0000000  | 0.000000    | \n",
       "| -0.7742513  | -0.51364899 |  3.07836426 |  0.0000000  |  0.0000000  | 0.000000    | \n",
       "| -1.3936391  | -0.25990256 | -0.04857242 |  1.4416501  |  0.0000000  | 0.000000    | \n",
       "| -1.3442642  |  0.00874392 | -0.79996526 | -2.0763831  |  1.7163722  | 0.000000    | \n",
       "| -0.2256916  | -1.53087098 | -1.72331470 | -0.5223903  | -0.8968716  | 1.447343    | \n",
       "\n",
       "\n"
      ],
      "text/plain": [
       "     [,1]       [,2]        [,3]        [,4]       [,5]       [,6]    \n",
       "[1,]  3.7456220  0.00000000  0.00000000  0.0000000  0.0000000 0.000000\n",
       "[2,]  0.9333329  1.54142901  0.00000000  0.0000000  0.0000000 0.000000\n",
       "[3,] -0.7742513 -0.51364899  3.07836426  0.0000000  0.0000000 0.000000\n",
       "[4,] -1.3936391 -0.25990256 -0.04857242  1.4416501  0.0000000 0.000000\n",
       "[5,] -1.3442642  0.00874392 -0.79996526 -2.0763831  1.7163722 0.000000\n",
       "[6,] -0.2256916 -1.53087098 -1.72331470 -0.5223903 -0.8968716 1.447343"
      ]
     },
     "metadata": {},
     "output_type": "display_data"
    }
   ],
   "source": [
    "gives <- function(mx, lmx){\n",
    "    mc <- mx[1]/lmx\n",
    "    ms <- mx[2]/lmx\n",
    "    matrix(c(mc,ms,-ms,mc),ncol=2)\n",
    "}\n",
    "\n",
    "x=matrix(rnorm(60),10)\n",
    "xtx=t(x)%*%x\n",
    "L=mchol(xtx)\n",
    "L"
   ]
  },
  {
   "cell_type": "code",
   "execution_count": 213,
   "metadata": {},
   "outputs": [
    {
     "data": {
      "text/html": [
       "<table>\n",
       "<tbody>\n",
       "\t<tr><td> 3.7456220 </td><td> 0.00000000</td><td> 0.00000000</td><td> 0.0000000 </td><td> 0.0000000 </td><td>0.000000   </td></tr>\n",
       "\t<tr><td>-0.7742513 </td><td>-0.51364899</td><td> 3.07836426</td><td> 0.0000000 </td><td> 0.0000000 </td><td>0.000000   </td></tr>\n",
       "\t<tr><td>-1.3936391 </td><td>-0.25990256</td><td>-0.04857242</td><td> 1.4416501 </td><td> 0.0000000 </td><td>0.000000   </td></tr>\n",
       "\t<tr><td>-1.3442642 </td><td> 0.00874392</td><td>-0.79996526</td><td>-2.0763831 </td><td> 1.7163722 </td><td>0.000000   </td></tr>\n",
       "\t<tr><td>-0.2256916 </td><td>-1.53087098</td><td>-1.72331470</td><td>-0.5223903 </td><td>-0.8968716 </td><td>1.447343   </td></tr>\n",
       "</tbody>\n",
       "</table>\n"
      ],
      "text/latex": [
       "\\begin{tabular}{llllll}\n",
       "\t  3.7456220  &  0.00000000 &  0.00000000 &  0.0000000  &  0.0000000  & 0.000000   \\\\\n",
       "\t -0.7742513  & -0.51364899 &  3.07836426 &  0.0000000  &  0.0000000  & 0.000000   \\\\\n",
       "\t -1.3936391  & -0.25990256 & -0.04857242 &  1.4416501  &  0.0000000  & 0.000000   \\\\\n",
       "\t -1.3442642  &  0.00874392 & -0.79996526 & -2.0763831  &  1.7163722  & 0.000000   \\\\\n",
       "\t -0.2256916  & -1.53087098 & -1.72331470 & -0.5223903  & -0.8968716  & 1.447343   \\\\\n",
       "\\end{tabular}\n"
      ],
      "text/markdown": [
       "\n",
       "|  3.7456220  |  0.00000000 |  0.00000000 |  0.0000000  |  0.0000000  | 0.000000    | \n",
       "| -0.7742513  | -0.51364899 |  3.07836426 |  0.0000000  |  0.0000000  | 0.000000    | \n",
       "| -1.3936391  | -0.25990256 | -0.04857242 |  1.4416501  |  0.0000000  | 0.000000    | \n",
       "| -1.3442642  |  0.00874392 | -0.79996526 | -2.0763831  |  1.7163722  | 0.000000    | \n",
       "| -0.2256916  | -1.53087098 | -1.72331470 | -0.5223903  | -0.8968716  | 1.447343    | \n",
       "\n",
       "\n"
      ],
      "text/plain": [
       "     [,1]       [,2]        [,3]        [,4]       [,5]       [,6]    \n",
       "[1,]  3.7456220  0.00000000  0.00000000  0.0000000  0.0000000 0.000000\n",
       "[2,] -0.7742513 -0.51364899  3.07836426  0.0000000  0.0000000 0.000000\n",
       "[3,] -1.3936391 -0.25990256 -0.04857242  1.4416501  0.0000000 0.000000\n",
       "[4,] -1.3442642  0.00874392 -0.79996526 -2.0763831  1.7163722 0.000000\n",
       "[5,] -0.2256916 -1.53087098 -1.72331470 -0.5223903 -0.8968716 1.447343"
      ]
     },
     "metadata": {},
     "output_type": "display_data"
    },
    {
     "data": {
      "text/html": [
       "<table>\n",
       "<tbody>\n",
       "\t<tr><td> 3.7456220  </td><td> 0.000000000</td><td>0.0000000   </td><td> 0.0000000  </td><td> 0.0000000  </td><td>0.000000    </td></tr>\n",
       "\t<tr><td>-0.7742513  </td><td> 3.120923231</td><td>0.0000000   </td><td> 0.0000000  </td><td> 0.0000000  </td><td>0.000000    </td></tr>\n",
       "\t<tr><td>-1.3936391  </td><td>-0.005134673</td><td>0.2643525   </td><td> 1.4416501  </td><td> 0.0000000  </td><td>0.000000    </td></tr>\n",
       "\t<tr><td>-1.3442642  </td><td>-0.790495501</td><td>0.1230355   </td><td>-2.0763831  </td><td> 1.7163722  </td><td>0.000000    </td></tr>\n",
       "\t<tr><td>-0.2256916  </td><td>-1.447860045</td><td>1.7936223   </td><td>-0.5223903  </td><td>-0.8968716  </td><td>1.447343    </td></tr>\n",
       "</tbody>\n",
       "</table>\n"
      ],
      "text/latex": [
       "\\begin{tabular}{llllll}\n",
       "\t  3.7456220   &  0.000000000 & 0.0000000    &  0.0000000   &  0.0000000   & 0.000000    \\\\\n",
       "\t -0.7742513   &  3.120923231 & 0.0000000    &  0.0000000   &  0.0000000   & 0.000000    \\\\\n",
       "\t -1.3936391   & -0.005134673 & 0.2643525    &  1.4416501   &  0.0000000   & 0.000000    \\\\\n",
       "\t -1.3442642   & -0.790495501 & 0.1230355    & -2.0763831   &  1.7163722   & 0.000000    \\\\\n",
       "\t -0.2256916   & -1.447860045 & 1.7936223    & -0.5223903   & -0.8968716   & 1.447343    \\\\\n",
       "\\end{tabular}\n"
      ],
      "text/markdown": [
       "\n",
       "|  3.7456220   |  0.000000000 | 0.0000000    |  0.0000000   |  0.0000000   | 0.000000     | \n",
       "| -0.7742513   |  3.120923231 | 0.0000000    |  0.0000000   |  0.0000000   | 0.000000     | \n",
       "| -1.3936391   | -0.005134673 | 0.2643525    |  1.4416501   |  0.0000000   | 0.000000     | \n",
       "| -1.3442642   | -0.790495501 | 0.1230355    | -2.0763831   |  1.7163722   | 0.000000     | \n",
       "| -0.2256916   | -1.447860045 | 1.7936223    | -0.5223903   | -0.8968716   | 1.447343     | \n",
       "\n",
       "\n"
      ],
      "text/plain": [
       "     [,1]       [,2]         [,3]      [,4]       [,5]       [,6]    \n",
       "[1,]  3.7456220  0.000000000 0.0000000  0.0000000  0.0000000 0.000000\n",
       "[2,] -0.7742513  3.120923231 0.0000000  0.0000000  0.0000000 0.000000\n",
       "[3,] -1.3936391 -0.005134673 0.2643525  1.4416501  0.0000000 0.000000\n",
       "[4,] -1.3442642 -0.790495501 0.1230355 -2.0763831  1.7163722 0.000000\n",
       "[5,] -0.2256916 -1.447860045 1.7936223 -0.5223903 -0.8968716 1.447343"
      ]
     },
     "metadata": {},
     "output_type": "display_data"
    }
   ],
   "source": [
    "L2=L[-2,]\n",
    "L2\n",
    "mx <- L2[2,2:3]\n",
    "lmx <- sqrt(sum(mx*mx))\n",
    "L2[2,2:3] <- c(lmx,0)\n",
    "L2[3:5,2:3] <- L2[3:5,2:3] %*% gives(mx, lmx)\n",
    "L2 "
   ]
  },
  {
   "cell_type": "code",
   "execution_count": 214,
   "metadata": {},
   "outputs": [
    {
     "data": {
      "text/html": [
       "<ol class=list-inline>\n",
       "\t<li>0.933332938718995</li>\n",
       "\t<li>1.54142901154237</li>\n",
       "\t<li>0</li>\n",
       "\t<li>0</li>\n",
       "\t<li>0</li>\n",
       "\t<li>0</li>\n",
       "</ol>\n"
      ],
      "text/latex": [
       "\\begin{enumerate*}\n",
       "\\item 0.933332938718995\n",
       "\\item 1.54142901154237\n",
       "\\item 0\n",
       "\\item 0\n",
       "\\item 0\n",
       "\\item 0\n",
       "\\end{enumerate*}\n"
      ],
      "text/markdown": [
       "1. 0.933332938718995\n",
       "2. 1.54142901154237\n",
       "3. 0\n",
       "4. 0\n",
       "5. 0\n",
       "6. 0\n",
       "\n",
       "\n"
      ],
      "text/plain": [
       "[1] 0.9333329 1.5414290 0.0000000 0.0000000 0.0000000 0.0000000"
      ]
     },
     "metadata": {},
     "output_type": "display_data"
    }
   ],
   "source": [
    "L[2:2,]"
   ]
  },
  {
   "cell_type": "code",
   "execution_count": 215,
   "metadata": {
    "scrolled": true
   },
   "outputs": [
    {
     "data": {
      "text/html": [
       "<table>\n",
       "<tbody>\n",
       "\t<tr><td> 3.7456220 </td><td> 0.00000000</td><td> 0.00000000</td><td> 0.0000000 </td><td> 0.0000000 </td><td>0.000000   </td></tr>\n",
       "\t<tr><td>-0.7742513 </td><td>-0.51364899</td><td> 3.07836426</td><td> 0.0000000 </td><td> 0.0000000 </td><td>0.000000   </td></tr>\n",
       "\t<tr><td>-1.3936391 </td><td>-0.25990256</td><td>-0.04857242</td><td> 1.4416501 </td><td> 0.0000000 </td><td>0.000000   </td></tr>\n",
       "\t<tr><td>-1.3442642 </td><td> 0.00874392</td><td>-0.79996526</td><td>-2.0763831 </td><td> 1.7163722 </td><td>0.000000   </td></tr>\n",
       "\t<tr><td>-0.2256916 </td><td>-1.53087098</td><td>-1.72331470</td><td>-0.5223903 </td><td>-0.8968716 </td><td>1.447343   </td></tr>\n",
       "</tbody>\n",
       "</table>\n"
      ],
      "text/latex": [
       "\\begin{tabular}{llllll}\n",
       "\t  3.7456220  &  0.00000000 &  0.00000000 &  0.0000000  &  0.0000000  & 0.000000   \\\\\n",
       "\t -0.7742513  & -0.51364899 &  3.07836426 &  0.0000000  &  0.0000000  & 0.000000   \\\\\n",
       "\t -1.3936391  & -0.25990256 & -0.04857242 &  1.4416501  &  0.0000000  & 0.000000   \\\\\n",
       "\t -1.3442642  &  0.00874392 & -0.79996526 & -2.0763831  &  1.7163722  & 0.000000   \\\\\n",
       "\t -0.2256916  & -1.53087098 & -1.72331470 & -0.5223903  & -0.8968716  & 1.447343   \\\\\n",
       "\\end{tabular}\n"
      ],
      "text/markdown": [
       "\n",
       "|  3.7456220  |  0.00000000 |  0.00000000 |  0.0000000  |  0.0000000  | 0.000000    | \n",
       "| -0.7742513  | -0.51364899 |  3.07836426 |  0.0000000  |  0.0000000  | 0.000000    | \n",
       "| -1.3936391  | -0.25990256 | -0.04857242 |  1.4416501  |  0.0000000  | 0.000000    | \n",
       "| -1.3442642  |  0.00874392 | -0.79996526 | -2.0763831  |  1.7163722  | 0.000000    | \n",
       "| -0.2256916  | -1.53087098 | -1.72331470 | -0.5223903  | -0.8968716  | 1.447343    | \n",
       "\n",
       "\n"
      ],
      "text/plain": [
       "     [,1]       [,2]        [,3]        [,4]       [,5]       [,6]    \n",
       "[1,]  3.7456220  0.00000000  0.00000000  0.0000000  0.0000000 0.000000\n",
       "[2,] -0.7742513 -0.51364899  3.07836426  0.0000000  0.0000000 0.000000\n",
       "[3,] -1.3936391 -0.25990256 -0.04857242  1.4416501  0.0000000 0.000000\n",
       "[4,] -1.3442642  0.00874392 -0.79996526 -2.0763831  1.7163722 0.000000\n",
       "[5,] -0.2256916 -1.53087098 -1.72331470 -0.5223903 -0.8968716 1.447343"
      ]
     },
     "metadata": {},
     "output_type": "display_data"
    },
    {
     "data": {
      "text/html": [
       "<table>\n",
       "<tbody>\n",
       "\t<tr><td> 3.7456220  </td><td> 0.000000000</td><td> 0.0000000  </td><td> 0.0000000  </td><td>0.000000    </td><td>0           </td></tr>\n",
       "\t<tr><td>-0.7742513  </td><td> 3.120923231</td><td> 0.0000000  </td><td> 0.0000000  </td><td>0.000000    </td><td>0           </td></tr>\n",
       "\t<tr><td>-1.3936391  </td><td>-0.005134673</td><td> 1.4656866  </td><td> 0.0000000  </td><td>0.000000    </td><td>0           </td></tr>\n",
       "\t<tr><td>-1.3442642  </td><td>-0.790495501</td><td>-2.0201406  </td><td> 1.7864685  </td><td>0.000000    </td><td>0           </td></tr>\n",
       "\t<tr><td>-0.2256916  </td><td>-1.447860045</td><td>-0.1903241  </td><td>-0.3462055  </td><td>2.496612    </td><td>0           </td></tr>\n",
       "</tbody>\n",
       "</table>\n"
      ],
      "text/latex": [
       "\\begin{tabular}{llllll}\n",
       "\t  3.7456220   &  0.000000000 &  0.0000000   &  0.0000000   & 0.000000     & 0           \\\\\n",
       "\t -0.7742513   &  3.120923231 &  0.0000000   &  0.0000000   & 0.000000     & 0           \\\\\n",
       "\t -1.3936391   & -0.005134673 &  1.4656866   &  0.0000000   & 0.000000     & 0           \\\\\n",
       "\t -1.3442642   & -0.790495501 & -2.0201406   &  1.7864685   & 0.000000     & 0           \\\\\n",
       "\t -0.2256916   & -1.447860045 & -0.1903241   & -0.3462055   & 2.496612     & 0           \\\\\n",
       "\\end{tabular}\n"
      ],
      "text/markdown": [
       "\n",
       "|  3.7456220   |  0.000000000 |  0.0000000   |  0.0000000   | 0.000000     | 0            | \n",
       "| -0.7742513   |  3.120923231 |  0.0000000   |  0.0000000   | 0.000000     | 0            | \n",
       "| -1.3936391   | -0.005134673 |  1.4656866   |  0.0000000   | 0.000000     | 0            | \n",
       "| -1.3442642   | -0.790495501 | -2.0201406   |  1.7864685   | 0.000000     | 0            | \n",
       "| -0.2256916   | -1.447860045 | -0.1903241   | -0.3462055   | 2.496612     | 0            | \n",
       "\n",
       "\n"
      ],
      "text/plain": [
       "     [,1]       [,2]         [,3]       [,4]       [,5]     [,6]\n",
       "[1,]  3.7456220  0.000000000  0.0000000  0.0000000 0.000000 0   \n",
       "[2,] -0.7742513  3.120923231  0.0000000  0.0000000 0.000000 0   \n",
       "[3,] -1.3936391 -0.005134673  1.4656866  0.0000000 0.000000 0   \n",
       "[4,] -1.3442642 -0.790495501 -2.0201406  1.7864685 0.000000 0   \n",
       "[5,] -0.2256916 -1.447860045 -0.1903241 -0.3462055 2.496612 0   "
      ]
     },
     "metadata": {},
     "output_type": "display_data"
    },
    {
     "data": {
      "text/html": [
       "<table>\n",
       "<tbody>\n",
       "\t<tr><td> 3.7456220  </td><td> 0.000000000</td><td> 0.0000000  </td><td> 0.0000000  </td><td>0.000000    </td></tr>\n",
       "\t<tr><td>-0.7742513  </td><td> 3.120923231</td><td> 0.0000000  </td><td> 0.0000000  </td><td>0.000000    </td></tr>\n",
       "\t<tr><td>-1.3936391  </td><td>-0.005134673</td><td> 1.4656866  </td><td> 0.0000000  </td><td>0.000000    </td></tr>\n",
       "\t<tr><td>-1.3442642  </td><td>-0.790495501</td><td>-2.0201406  </td><td> 1.7864685  </td><td>0.000000    </td></tr>\n",
       "\t<tr><td>-0.2256916  </td><td>-1.447860045</td><td>-0.1903241  </td><td>-0.3462055  </td><td>2.496612    </td></tr>\n",
       "</tbody>\n",
       "</table>\n"
      ],
      "text/latex": [
       "\\begin{tabular}{lllll}\n",
       "\t  3.7456220   &  0.000000000 &  0.0000000   &  0.0000000   & 0.000000    \\\\\n",
       "\t -0.7742513   &  3.120923231 &  0.0000000   &  0.0000000   & 0.000000    \\\\\n",
       "\t -1.3936391   & -0.005134673 &  1.4656866   &  0.0000000   & 0.000000    \\\\\n",
       "\t -1.3442642   & -0.790495501 & -2.0201406   &  1.7864685   & 0.000000    \\\\\n",
       "\t -0.2256916   & -1.447860045 & -0.1903241   & -0.3462055   & 2.496612    \\\\\n",
       "\\end{tabular}\n"
      ],
      "text/markdown": [
       "\n",
       "|  3.7456220   |  0.000000000 |  0.0000000   |  0.0000000   | 0.000000     | \n",
       "| -0.7742513   |  3.120923231 |  0.0000000   |  0.0000000   | 0.000000     | \n",
       "| -1.3936391   | -0.005134673 |  1.4656866   |  0.0000000   | 0.000000     | \n",
       "| -1.3442642   | -0.790495501 | -2.0201406   |  1.7864685   | 0.000000     | \n",
       "| -0.2256916   | -1.447860045 | -0.1903241   | -0.3462055   | 2.496612     | \n",
       "\n",
       "\n"
      ],
      "text/plain": [
       "     [,1]       [,2]         [,3]       [,4]       [,5]    \n",
       "[1,]  3.7456220  0.000000000  0.0000000  0.0000000 0.000000\n",
       "[2,] -0.7742513  3.120923231  0.0000000  0.0000000 0.000000\n",
       "[3,] -1.3936391 -0.005134673  1.4656866  0.0000000 0.000000\n",
       "[4,] -1.3442642 -0.790495501 -2.0201406  1.7864685 0.000000\n",
       "[5,] -0.2256916 -1.447860045 -0.1903241 -0.3462055 2.496612"
      ]
     },
     "metadata": {},
     "output_type": "display_data"
    },
    {
     "data": {
      "text/html": [
       "<table>\n",
       "<tbody>\n",
       "\t<tr><td> 3.7456220  </td><td> 0.000000000</td><td> 0.0000000  </td><td> 0.0000000  </td><td>0.000000    </td></tr>\n",
       "\t<tr><td>-0.7742513  </td><td> 3.120923231</td><td> 0.0000000  </td><td> 0.0000000  </td><td>0.000000    </td></tr>\n",
       "\t<tr><td>-1.3936391  </td><td>-0.005134673</td><td> 1.4656866  </td><td> 0.0000000  </td><td>0.000000    </td></tr>\n",
       "\t<tr><td>-1.3442642  </td><td>-0.790495501</td><td>-2.0201406  </td><td> 1.7864685  </td><td>0.000000    </td></tr>\n",
       "\t<tr><td>-0.2256916  </td><td>-1.447860045</td><td>-0.1903241  </td><td>-0.3462055  </td><td>2.496612    </td></tr>\n",
       "</tbody>\n",
       "</table>\n"
      ],
      "text/latex": [
       "\\begin{tabular}{lllll}\n",
       "\t  3.7456220   &  0.000000000 &  0.0000000   &  0.0000000   & 0.000000    \\\\\n",
       "\t -0.7742513   &  3.120923231 &  0.0000000   &  0.0000000   & 0.000000    \\\\\n",
       "\t -1.3936391   & -0.005134673 &  1.4656866   &  0.0000000   & 0.000000    \\\\\n",
       "\t -1.3442642   & -0.790495501 & -2.0201406   &  1.7864685   & 0.000000    \\\\\n",
       "\t -0.2256916   & -1.447860045 & -0.1903241   & -0.3462055   & 2.496612    \\\\\n",
       "\\end{tabular}\n"
      ],
      "text/markdown": [
       "\n",
       "|  3.7456220   |  0.000000000 |  0.0000000   |  0.0000000   | 0.000000     | \n",
       "| -0.7742513   |  3.120923231 |  0.0000000   |  0.0000000   | 0.000000     | \n",
       "| -1.3936391   | -0.005134673 |  1.4656866   |  0.0000000   | 0.000000     | \n",
       "| -1.3442642   | -0.790495501 | -2.0201406   |  1.7864685   | 0.000000     | \n",
       "| -0.2256916   | -1.447860045 | -0.1903241   | -0.3462055   | 2.496612     | \n",
       "\n",
       "\n"
      ],
      "text/plain": [
       "     [,1]       [,2]         [,3]       [,4]       [,5]    \n",
       "[1,]  3.7456220  0.000000000  0.0000000  0.0000000 0.000000\n",
       "[2,] -0.7742513  3.120923231  0.0000000  0.0000000 0.000000\n",
       "[3,] -1.3936391 -0.005134673  1.4656866  0.0000000 0.000000\n",
       "[4,] -1.3442642 -0.790495501 -2.0201406  1.7864685 0.000000\n",
       "[5,] -0.2256916 -1.447860045 -0.1903241 -0.3462055 2.496612"
      ]
     },
     "metadata": {},
     "output_type": "display_data"
    }
   ],
   "source": [
    "p <- dim(x)[2]\n",
    "k <- 2\n",
    "Lk <- L[-k,]\n",
    "Lk\n",
    "mk <- k\n",
    "while( mk < p ){\n",
    "    mx <- Lk[mk,mk:(mk+1)]\n",
    "    lmx <- sqrt(sum(mx*mx))\n",
    "    Lk[mk,mk:(mk+1)] <- c(lmx,0)\n",
    "    if( mk < p-1 ) Lk[(mk+1):(p-1), mk:(mk+1)] <- Lk[(mk+1):(p-1), mk:(mk+1)] %*% gives(mx, lmx)\n",
    "    mk <- mk + 1\n",
    "}\n",
    "Lk\n",
    "Lk <- Lk[,-p]\n",
    "Lk\n",
    "\n",
    "xtxk <- xtx[-k, -k]\n",
    "mchol(xtxk)"
   ]
  },
  {
   "cell_type": "code",
   "execution_count": 224,
   "metadata": {},
   "outputs": [
    {
     "name": "stdout",
     "output_type": "stream",
     "text": [
      "[1] \"k=\"\n",
      "[1] 1\n",
      "           [,1]        [,2]        [,3]       [,4]       [,5]       [,6]\n",
      "[1,]  17.610907   0.0000000  0.00000000  0.0000000  0.0000000   0.000000\n",
      "[2,]  27.756172  22.9047849  0.00000000  0.0000000  0.0000000   0.000000\n",
      "[3,] 485.656377 397.6411660 83.60853293  0.0000000  0.0000000   0.000000\n",
      "[4,]   1.001156   1.4812052 -1.08102104 14.0952704  0.0000000   0.000000\n",
      "[5,]   3.043066  -0.2449441 -0.05363625 -0.3961627  3.3941024   0.000000\n",
      "[6,]   4.732987  -8.0789090 -0.83341591  0.2283026  5.0979862   8.740959\n",
      "[7,]  52.216971  40.5724640  5.71966913 -2.3150003  0.4207216   1.854414\n",
      "[8,] 259.876260  65.2180446 53.40433217 17.4881084 76.5877774 104.526750\n",
      "          [,7]     [,8]\n",
      "[1,]  0.000000   0.0000\n",
      "[2,]  0.000000   0.0000\n",
      "[3,]  0.000000   0.0000\n",
      "[4,]  0.000000   0.0000\n",
      "[5,]  0.000000   0.0000\n",
      "[6,]  0.000000   0.0000\n",
      "[7,]  7.653326   0.0000\n",
      "[8,] 95.770640 181.9795\n",
      "           [,1]        [,2]        [,3]       [,4]       [,5]       [,6]\n",
      "[1,]  17.610907   0.0000000  0.00000000  0.0000000  0.0000000   0.000000\n",
      "[2,]  27.756172  22.9047849  0.00000000  0.0000000  0.0000000   0.000000\n",
      "[3,] 485.656377 397.6411660 83.60853293  0.0000000  0.0000000   0.000000\n",
      "[4,]   1.001156   1.4812052 -1.08102104 14.0952704  0.0000000   0.000000\n",
      "[5,]   3.043066  -0.2449441 -0.05363625 -0.3961627  3.3941024   0.000000\n",
      "[6,]   4.732987  -8.0789090 -0.83341591  0.2283026  5.0979862   8.740959\n",
      "[7,]  52.216971  40.5724640  5.71966913 -2.3150003  0.4207216   1.854414\n",
      "[8,] 259.876260  65.2180446 53.40433217 17.4881084 76.5877774 104.526750\n",
      "          [,7]     [,8]\n",
      "[1,]  0.000000   0.0000\n",
      "[2,]  0.000000   0.0000\n",
      "[3,]  0.000000   0.0000\n",
      "[4,]  0.000000   0.0000\n",
      "[5,]  0.000000   0.0000\n",
      "[6,]  0.000000   0.0000\n",
      "[7,]  7.653326   0.0000\n",
      "[8,] 95.770640 181.9795\n",
      "[1] \"k=\"\n",
      "[1] 2\n",
      "            [,1]       [,2]       [,3]        [,4]       [,5]       [,6]\n",
      "[1,]   9.8488578  0.0000000  0.0000000  0.00000000   0.000000   0.000000\n",
      "[2,]  35.7409402  4.1975557  0.0000000  0.00000000   0.000000   0.000000\n",
      "[3,] 629.0069493 25.3832859 68.3882046  0.00000000   0.000000   0.000000\n",
      "[4,]   0.9883881  6.2867635  2.9762725 12.39689613   0.000000   0.000000\n",
      "[5,]   2.1322269  0.6302885  0.2751299 -0.78496019   3.919756   0.000000\n",
      "[6,]  -1.7665461  2.2541577  1.0289747 -1.50013090   8.807763  10.085767\n",
      "[7,]  66.5051738  0.4024659  1.8799674 -0.02408322   2.144538   2.789862\n",
      "[8,] 240.1293681 29.6663582 70.3765969 -7.07917470 119.745150 117.620905\n",
      "           [,7]    [,8]\n",
      "[1,]   0.000000   0.000\n",
      "[2,]   0.000000   0.000\n",
      "[3,]   0.000000   0.000\n",
      "[4,]   0.000000   0.000\n",
      "[5,]   0.000000   0.000\n",
      "[6,]   0.000000   0.000\n",
      "[7,]   5.829464   0.000\n",
      "[8,] 127.077663 161.739\n",
      "            [,1]       [,2]       [,3]        [,4]       [,5]       [,6]\n",
      "[1,]   9.8488578  0.0000000  0.0000000  0.00000000   0.000000   0.000000\n",
      "[2,]  35.7409402  4.1975557  0.0000000  0.00000000   0.000000   0.000000\n",
      "[3,] 629.0069493 25.3832859 68.3882046  0.00000000   0.000000   0.000000\n",
      "[4,]   0.9883881  6.2867635  2.9762725 12.39689613   0.000000   0.000000\n",
      "[5,]   2.1322269  0.6302885  0.2751299 -0.78496019   3.919756   0.000000\n",
      "[6,]  -1.7665461  2.2541577  1.0289747 -1.50013090   8.807763  10.085767\n",
      "[7,]  66.5051738  0.4024659  1.8799674 -0.02408322   2.144538   2.789862\n",
      "[8,] 240.1293681 29.6663582 70.3765969 -7.07917470 119.745150 117.620905\n",
      "           [,7]    [,8]\n",
      "[1,]   0.000000   0.000\n",
      "[2,]   0.000000   0.000\n",
      "[3,]   0.000000   0.000\n",
      "[4,]   0.000000   0.000\n",
      "[5,]   0.000000   0.000\n",
      "[6,]   0.000000   0.000\n",
      "[7,]   5.829464   0.000\n",
      "[8,] 127.077663 161.739\n",
      "[1] \"k=\"\n",
      "[1] 3\n",
      "            [,1]        [,2]        [,3]        [,4]       [,5]       [,6]\n",
      "[1,]   9.8488578   0.0000000  0.00000000  0.00000000  0.0000000   0.000000\n",
      "[2,]  13.2960524  11.5481182  0.00000000  0.00000000  0.0000000   0.000000\n",
      "[3,] 629.0069493  16.4130553 71.07650349  0.00000000  0.0000000   0.000000\n",
      "[4,]   0.9883881   0.3887745  5.01909426 13.29368926  0.0000000   0.000000\n",
      "[5,]   2.1322269   2.1857195 -0.01491214 -0.43062839  3.3897751   0.000000\n",
      "[6,]  -1.7665461   9.2517485 -0.34134762 -0.24422788  5.0368251   8.749238\n",
      "[7,]  66.5051738   3.0595411  1.24608111  0.02883142  0.7491869   2.086699\n",
      "[8,] 240.1293681 119.8363185 50.63668676  0.56161282 74.3583419 105.733599\n",
      "           [,7]     [,8]\n",
      "[1,]   0.000000   0.0000\n",
      "[2,]   0.000000   0.0000\n",
      "[3,]   0.000000   0.0000\n",
      "[4,]   0.000000   0.0000\n",
      "[5,]   0.000000   0.0000\n",
      "[6,]   0.000000   0.0000\n",
      "[7,]   5.850805   0.0000\n",
      "[8,] 130.589613 160.2415\n",
      "            [,1]        [,2]        [,3]        [,4]       [,5]       [,6]\n",
      "[1,]   9.8488578   0.0000000  0.00000000  0.00000000  0.0000000   0.000000\n",
      "[2,]  13.2960524  11.5481182  0.00000000  0.00000000  0.0000000   0.000000\n",
      "[3,] 629.0069493  16.4130553 71.07650349  0.00000000  0.0000000   0.000000\n",
      "[4,]   0.9883881   0.3887745  5.01909426 13.29368926  0.0000000   0.000000\n",
      "[5,]   2.1322269   2.1857195 -0.01491214 -0.43062839  3.3897751   0.000000\n",
      "[6,]  -1.7665461   9.2517485 -0.34134762 -0.24422788  5.0368251   8.749238\n",
      "[7,]  66.5051738   3.0595411  1.24608111  0.02883142  0.7491869   2.086699\n",
      "[8,] 240.1293681 119.8363185 50.63668676  0.56161282 74.3583419 105.733599\n",
      "           [,7]     [,8]\n",
      "[1,]   0.000000   0.0000\n",
      "[2,]   0.000000   0.0000\n",
      "[3,]   0.000000   0.0000\n",
      "[4,]   0.000000   0.0000\n",
      "[5,]   0.000000   0.0000\n",
      "[6,]   0.000000   0.0000\n",
      "[7,]   5.850805   0.0000\n",
      "[8,] 130.589613 160.2415\n",
      "[1] \"k=\"\n",
      "[1] 4\n",
      "            [,1]        [,2]        [,3]       [,4]       [,5]       [,6]\n",
      "[1,]   9.8488578   0.0000000  0.00000000  0.0000000  0.0000000   0.000000\n",
      "[2,]  13.2960524  11.5481182  0.00000000  0.0000000  0.0000000   0.000000\n",
      "[3,]  35.7409402   1.1775041  4.02901446  0.0000000  0.0000000   0.000000\n",
      "[4,]   0.9883881   0.3887745  6.43612884 12.6684540  0.0000000   0.000000\n",
      "[5,]   2.1322269   2.1857195  0.01786477 -0.4668656  3.3849602   0.000000\n",
      "[6,]  -1.7665461   9.2517485 -0.35542683 -0.2109470  5.0493449   8.742324\n",
      "[7,]  66.5051738   3.0595411 -0.47486780  0.7651908  0.8491392   1.979245\n",
      "[8,] 240.1293681 119.8363185 -4.11553999 22.7418717 77.3279481 102.384171\n",
      "           [,7]    [,8]\n",
      "[1,]   0.000000   0.000\n",
      "[2,]   0.000000   0.000\n",
      "[3,]   0.000000   0.000\n",
      "[4,]   0.000000   0.000\n",
      "[5,]   0.000000   0.000\n",
      "[6,]   0.000000   0.000\n",
      "[7,]   5.937306   0.000\n",
      "[8,] 137.410599 161.636\n",
      "            [,1]        [,2]        [,3]       [,4]       [,5]       [,6]\n",
      "[1,]   9.8488578   0.0000000  0.00000000  0.0000000  0.0000000   0.000000\n",
      "[2,]  13.2960524  11.5481182  0.00000000  0.0000000  0.0000000   0.000000\n",
      "[3,]  35.7409402   1.1775041  4.02901446  0.0000000  0.0000000   0.000000\n",
      "[4,]   0.9883881   0.3887745  6.43612884 12.6684540  0.0000000   0.000000\n",
      "[5,]   2.1322269   2.1857195  0.01786477 -0.4668656  3.3849602   0.000000\n",
      "[6,]  -1.7665461   9.2517485 -0.35542683 -0.2109470  5.0493449   8.742324\n",
      "[7,]  66.5051738   3.0595411 -0.47486780  0.7651908  0.8491392   1.979245\n",
      "[8,] 240.1293681 119.8363185 -4.11553999 22.7418717 77.3279481 102.384171\n",
      "           [,7]    [,8]\n",
      "[1,]   0.000000   0.000\n",
      "[2,]   0.000000   0.000\n",
      "[3,]   0.000000   0.000\n",
      "[4,]   0.000000   0.000\n",
      "[5,]   0.000000   0.000\n",
      "[6,]   0.000000   0.000\n",
      "[7,]   5.937306   0.000\n",
      "[8,] 137.410599 161.636\n",
      "[1] \"k=\"\n",
      "[1] 5\n",
      "           [,1]       [,2]        [,3]        [,4]       [,5]       [,6]\n",
      "[1,]   9.848858   0.000000  0.00000000  0.00000000  0.0000000   0.000000\n",
      "[2,]  13.296052  11.548118  0.00000000  0.00000000  0.0000000   0.000000\n",
      "[3,]  35.740940   1.177504  4.02901446  0.00000000  0.0000000   0.000000\n",
      "[4,] 629.006949  16.413055 21.64830034 67.69948627  0.0000000   0.000000\n",
      "[5,]   2.132227   2.185720  0.01786477 -0.02136862  3.4169376   0.000000\n",
      "[6,]  -1.766546   9.251749 -0.35542683 -0.24471986  5.0293825   8.752944\n",
      "[7,]  66.505174   3.059541 -0.47486780  1.46008744  0.7457734   2.060554\n",
      "[8,] 240.129368 119.836319 -4.11553999 54.47859788 73.8376852 105.416845\n",
      "           [,7]     [,8]\n",
      "[1,]   0.000000   0.0000\n",
      "[2,]   0.000000   0.0000\n",
      "[3,]   0.000000   0.0000\n",
      "[4,]   0.000000   0.0000\n",
      "[5,]   0.000000   0.0000\n",
      "[6,]   0.000000   0.0000\n",
      "[7,]   5.791515   0.0000\n",
      "[8,] 129.453058 160.3012\n",
      "           [,1]       [,2]        [,3]        [,4]       [,5]       [,6]\n",
      "[1,]   9.848858   0.000000  0.00000000  0.00000000  0.0000000   0.000000\n",
      "[2,]  13.296052  11.548118  0.00000000  0.00000000  0.0000000   0.000000\n",
      "[3,]  35.740940   1.177504  4.02901446  0.00000000  0.0000000   0.000000\n",
      "[4,] 629.006949  16.413055 21.64830034 67.69948627  0.0000000   0.000000\n",
      "[5,]   2.132227   2.185720  0.01786477 -0.02136862  3.4169376   0.000000\n",
      "[6,]  -1.766546   9.251749 -0.35542683 -0.24471986  5.0293825   8.752944\n",
      "[7,]  66.505174   3.059541 -0.47486780  1.46008744  0.7457734   2.060554\n",
      "[8,] 240.129368 119.836319 -4.11553999 54.47859788 73.8376852 105.416845\n",
      "           [,7]     [,8]\n",
      "[1,]   0.000000   0.0000\n",
      "[2,]   0.000000   0.0000\n",
      "[3,]   0.000000   0.0000\n",
      "[4,]   0.000000   0.0000\n",
      "[5,]   0.000000   0.0000\n",
      "[6,]   0.000000   0.0000\n",
      "[7,]   5.791515   0.0000\n",
      "[8,] 129.453058 160.3012\n",
      "[1] \"k=\"\n",
      "[1] 6\n",
      "            [,1]        [,2]       [,3]       [,4]       [,5]      [,6]\n",
      "[1,]   9.8488578   0.0000000  0.0000000  0.0000000  0.0000000   0.00000\n",
      "[2,]  13.2960524  11.5481182  0.0000000  0.0000000  0.0000000   0.00000\n",
      "[3,]  35.7409402   1.1775041  4.0290145  0.0000000  0.0000000   0.00000\n",
      "[4,] 629.0069493  16.4130553 21.6483003 67.6994863  0.0000000   0.00000\n",
      "[5,]   0.9883881   0.3887745  6.4361288  3.2113747 12.2546644   0.00000\n",
      "[6,]  -1.7665461   9.2517485 -0.3554268 -0.2447199 -0.1539402  10.09381\n",
      "[7,]  66.5051738   3.0595411 -0.4748678  1.4600874  0.4084075   2.16465\n",
      "[8,] 240.1293681 119.8363185 -4.1155400 54.4785979  9.2334771 128.34470\n",
      "           [,7]     [,8]\n",
      "[1,]   0.000000   0.0000\n",
      "[2,]   0.000000   0.0000\n",
      "[3,]   0.000000   0.0000\n",
      "[4,]   0.000000   0.0000\n",
      "[5,]   0.000000   0.0000\n",
      "[6,]   0.000000   0.0000\n",
      "[7,]   5.787159   0.0000\n",
      "[8,] 127.941943 161.5318\n",
      "            [,1]        [,2]       [,3]       [,4]       [,5]      [,6]\n",
      "[1,]   9.8488578   0.0000000  0.0000000  0.0000000  0.0000000   0.00000\n",
      "[2,]  13.2960524  11.5481182  0.0000000  0.0000000  0.0000000   0.00000\n",
      "[3,]  35.7409402   1.1775041  4.0290145  0.0000000  0.0000000   0.00000\n",
      "[4,] 629.0069493  16.4130553 21.6483003 67.6994863  0.0000000   0.00000\n",
      "[5,]   0.9883881   0.3887745  6.4361288  3.2113747 12.2546644   0.00000\n",
      "[6,]  -1.7665461   9.2517485 -0.3554268 -0.2447199 -0.1539402  10.09381\n",
      "[7,]  66.5051738   3.0595411 -0.4748678  1.4600874  0.4084075   2.16465\n",
      "[8,] 240.1293681 119.8363185 -4.1155400 54.4785979  9.2334771 128.34470\n",
      "           [,7]     [,8]\n",
      "[1,]   0.000000   0.0000\n",
      "[2,]   0.000000   0.0000\n",
      "[3,]   0.000000   0.0000\n",
      "[4,]   0.000000   0.0000\n",
      "[5,]   0.000000   0.0000\n",
      "[6,]   0.000000   0.0000\n",
      "[7,]   5.787159   0.0000\n",
      "[8,] 127.941943 161.5318\n",
      "[1] \"k=\"\n",
      "[1] 7\n",
      "            [,1]        [,2]        [,3]        [,4]       [,5]       [,6]\n",
      "[1,]   9.8488578   0.0000000  0.00000000  0.00000000  0.0000000  0.0000000\n",
      "[2,]  13.2960524  11.5481182  0.00000000  0.00000000  0.0000000  0.0000000\n",
      "[3,]  35.7409402   1.1775041  4.02901446  0.00000000  0.0000000  0.0000000\n",
      "[4,] 629.0069493  16.4130553 21.64830034 67.69948627  0.0000000  0.0000000\n",
      "[5,]   0.9883881   0.3887745  6.43612884  3.21137474 12.2546644  0.0000000\n",
      "[6,]   2.1322269   2.1857195  0.01786477 -0.02136862 -0.4770300  3.3834753\n",
      "[7,]  66.5051738   3.0595411 -0.47486780  1.46008744  0.4084075  0.8107296\n",
      "[8,] 240.1293681 119.8363185 -4.11553999 54.47859788  9.2334771 75.8697457\n",
      "           [,7]     [,8]\n",
      "[1,]   0.000000   0.0000\n",
      "[2,]   0.000000   0.0000\n",
      "[3,]   0.000000   0.0000\n",
      "[4,]   0.000000   0.0000\n",
      "[5,]   0.000000   0.0000\n",
      "[6,]   0.000000   0.0000\n",
      "[7,]   6.125327   0.0000\n",
      "[8,] 156.192769 169.6515\n",
      "            [,1]        [,2]        [,3]        [,4]       [,5]       [,6]\n",
      "[1,]   9.8488578   0.0000000  0.00000000  0.00000000  0.0000000  0.0000000\n",
      "[2,]  13.2960524  11.5481182  0.00000000  0.00000000  0.0000000  0.0000000\n",
      "[3,]  35.7409402   1.1775041  4.02901446  0.00000000  0.0000000  0.0000000\n",
      "[4,] 629.0069493  16.4130553 21.64830034 67.69948627  0.0000000  0.0000000\n",
      "[5,]   0.9883881   0.3887745  6.43612884  3.21137474 12.2546644  0.0000000\n",
      "[6,]   2.1322269   2.1857195  0.01786477 -0.02136862 -0.4770300  3.3834753\n",
      "[7,]  66.5051738   3.0595411 -0.47486780  1.46008744  0.4084075  0.8107296\n",
      "[8,] 240.1293681 119.8363185 -4.11553999 54.47859788  9.2334771 75.8697457\n",
      "           [,7]     [,8]\n",
      "[1,]   0.000000   0.0000\n",
      "[2,]   0.000000   0.0000\n",
      "[3,]   0.000000   0.0000\n",
      "[4,]   0.000000   0.0000\n",
      "[5,]   0.000000   0.0000\n",
      "[6,]   0.000000   0.0000\n",
      "[7,]   6.125327   0.0000\n",
      "[8,] 156.192769 169.6515\n",
      "[1] \"k=\"\n",
      "[1] 8\n",
      "            [,1]        [,2]        [,3]        [,4]       [,5]      [,6]\n",
      "[1,]   9.8488578   0.0000000  0.00000000  0.00000000  0.0000000  0.000000\n",
      "[2,]  13.2960524  11.5481182  0.00000000  0.00000000  0.0000000  0.000000\n",
      "[3,]  35.7409402   1.1775041  4.02901446  0.00000000  0.0000000  0.000000\n",
      "[4,] 629.0069493  16.4130553 21.64830034 67.69948627  0.0000000  0.000000\n",
      "[5,]   0.9883881   0.3887745  6.43612884  3.21137474 12.2546644  0.000000\n",
      "[6,]   2.1322269   2.1857195  0.01786477 -0.02136862 -0.4770300  3.383475\n",
      "[7,]  -1.7665461   9.2517485 -0.35542683 -0.24471986 -0.1539402  5.057419\n",
      "[8,] 240.1293681 119.8363185 -4.11553999 54.47859788  9.2334771 75.869746\n",
      "           [,7]     [,8]\n",
      "[1,]   0.000000   0.0000\n",
      "[2,]   0.000000   0.0000\n",
      "[3,]   0.000000   0.0000\n",
      "[4,]   0.000000   0.0000\n",
      "[5,]   0.000000   0.0000\n",
      "[6,]   0.000000   0.0000\n",
      "[7,]   8.735419   0.0000\n",
      "[8,] 104.377602 205.6286\n",
      "            [,1]        [,2]        [,3]        [,4]       [,5]      [,6]\n",
      "[1,]   9.8488578   0.0000000  0.00000000  0.00000000  0.0000000  0.000000\n",
      "[2,]  13.2960524  11.5481182  0.00000000  0.00000000  0.0000000  0.000000\n",
      "[3,]  35.7409402   1.1775041  4.02901446  0.00000000  0.0000000  0.000000\n",
      "[4,] 629.0069493  16.4130553 21.64830034 67.69948627  0.0000000  0.000000\n",
      "[5,]   0.9883881   0.3887745  6.43612884  3.21137474 12.2546644  0.000000\n",
      "[6,]   2.1322269   2.1857195  0.01786477 -0.02136862 -0.4770300  3.383475\n",
      "[7,]  -1.7665461   9.2517485 -0.35542683 -0.24471986 -0.1539402  5.057419\n",
      "[8,] 240.1293681 119.8363185 -4.11553999 54.47859788  9.2334771 75.869746\n",
      "           [,7]     [,8]\n",
      "[1,]   0.000000   0.0000\n",
      "[2,]   0.000000   0.0000\n",
      "[3,]   0.000000   0.0000\n",
      "[4,]   0.000000   0.0000\n",
      "[5,]   0.000000   0.0000\n",
      "[6,]   0.000000   0.0000\n",
      "[7,]   8.735419   0.0000\n",
      "[8,] 104.377602 205.6286\n",
      "[1] \"k=\"\n",
      "[1] 9\n",
      "            [,1]       [,2]        [,3]        [,4]       [,5]      [,6]\n",
      "[1,]   9.8488578  0.0000000  0.00000000  0.00000000  0.0000000 0.0000000\n",
      "[2,]  13.2960524 11.5481182  0.00000000  0.00000000  0.0000000 0.0000000\n",
      "[3,]  35.7409402  1.1775041  4.02901446  0.00000000  0.0000000 0.0000000\n",
      "[4,] 629.0069493 16.4130553 21.64830034 67.69948627  0.0000000 0.0000000\n",
      "[5,]   0.9883881  0.3887745  6.43612884  3.21137474 12.2546644 0.0000000\n",
      "[6,]   2.1322269  2.1857195  0.01786477 -0.02136862 -0.4770300 3.3834753\n",
      "[7,]  -1.7665461  9.2517485 -0.35542683 -0.24471986 -0.1539402 5.0574190\n",
      "[8,]  66.5051738  3.0595411 -0.47486780  1.46008744  0.4084075 0.8107296\n",
      "         [,7]     [,8]\n",
      "[1,] 0.000000 0.000000\n",
      "[2,] 0.000000 0.000000\n",
      "[3,] 0.000000 0.000000\n",
      "[4,] 0.000000 0.000000\n",
      "[5,] 0.000000 0.000000\n",
      "[6,] 0.000000 0.000000\n",
      "[7,] 8.735419 0.000000\n",
      "[8,] 2.031885 5.778501\n",
      "            [,1]       [,2]        [,3]        [,4]       [,5]      [,6]\n",
      "[1,]   9.8488578  0.0000000  0.00000000  0.00000000  0.0000000 0.0000000\n",
      "[2,]  13.2960524 11.5481182  0.00000000  0.00000000  0.0000000 0.0000000\n",
      "[3,]  35.7409402  1.1775041  4.02901446  0.00000000  0.0000000 0.0000000\n",
      "[4,] 629.0069493 16.4130553 21.64830034 67.69948627  0.0000000 0.0000000\n",
      "[5,]   0.9883881  0.3887745  6.43612884  3.21137474 12.2546644 0.0000000\n",
      "[6,]   2.1322269  2.1857195  0.01786477 -0.02136862 -0.4770300 3.3834753\n",
      "[7,]  -1.7665461  9.2517485 -0.35542683 -0.24471986 -0.1539402 5.0574190\n",
      "[8,]  66.5051738  3.0595411 -0.47486780  1.46008744  0.4084075 0.8107296\n",
      "         [,7]     [,8]\n",
      "[1,] 0.000000 0.000000\n",
      "[2,] 0.000000 0.000000\n",
      "[3,] 0.000000 0.000000\n",
      "[4,] 0.000000 0.000000\n",
      "[5,] 0.000000 0.000000\n",
      "[6,] 0.000000 0.000000\n",
      "[7,] 8.735419 0.000000\n",
      "[8,] 2.031885 5.778501\n"
     ]
    }
   ],
   "source": [
    "mgives <- function(L,k){\n",
    "    p <- dim(L)[1]\n",
    "    if( k>p ) return (\"Wrong input of k!\")\n",
    "    Lk <- L[-k,]\n",
    "    mk <- k\n",
    "    while( mk < p ){\n",
    "        mx <- Lk[mk,mk:(mk+1)]\n",
    "        lmx <- sqrt(sum(mx*mx))\n",
    "        Lk[mk,mk:(mk+1)] <- c(lmx,0)\n",
    "        if( mk < p-1 ){\n",
    "            Lk[(mk+1):(p-1), mk:(mk+1)] <- Lk[(mk+1):(p-1), mk:(mk+1)] %*% gives(mx, lmx)\n",
    "        }\n",
    "        mk <- mk + 1\n",
    "    }\n",
    "    return(Lk[,-p])\n",
    "}\n",
    "\n",
    "for (k in 1:dim(L)[1]){\n",
    "    print(\"k=\")\n",
    "    print(k)\n",
    "    print(mgives(L,k))\n",
    "    xtxk <- xtx[-k, -k]\n",
    "    print(mchol(xtxk))\n",
    "}"
   ]
  },
  {
   "cell_type": "code",
   "execution_count": 217,
   "metadata": {},
   "outputs": [
    {
     "data": {
      "text/html": [
       "<table>\n",
       "<tbody>\n",
       "\t<tr><td> 3.2031263 </td><td> 0.00000000</td><td> 0.000000  </td><td>0.000000   </td></tr>\n",
       "\t<tr><td>-0.2575528 </td><td> 2.32428833</td><td> 0.000000  </td><td>0.000000   </td></tr>\n",
       "\t<tr><td>-1.3833042 </td><td>-0.08223899</td><td> 1.812585  </td><td>0.000000   </td></tr>\n",
       "\t<tr><td> 0.5773897 </td><td>-0.54133247</td><td>-1.518096  </td><td>2.028743   </td></tr>\n",
       "</tbody>\n",
       "</table>\n"
      ],
      "text/latex": [
       "\\begin{tabular}{llll}\n",
       "\t  3.2031263  &  0.00000000 &  0.000000   & 0.000000   \\\\\n",
       "\t -0.2575528  &  2.32428833 &  0.000000   & 0.000000   \\\\\n",
       "\t -1.3833042  & -0.08223899 &  1.812585   & 0.000000   \\\\\n",
       "\t  0.5773897  & -0.54133247 & -1.518096   & 2.028743   \\\\\n",
       "\\end{tabular}\n"
      ],
      "text/markdown": [
       "\n",
       "|  3.2031263  |  0.00000000 |  0.000000   | 0.000000    | \n",
       "| -0.2575528  |  2.32428833 |  0.000000   | 0.000000    | \n",
       "| -1.3833042  | -0.08223899 |  1.812585   | 0.000000    | \n",
       "|  0.5773897  | -0.54133247 | -1.518096   | 2.028743    | \n",
       "\n",
       "\n"
      ],
      "text/plain": [
       "     [,1]       [,2]        [,3]      [,4]    \n",
       "[1,]  3.2031263  0.00000000  0.000000 0.000000\n",
       "[2,] -0.2575528  2.32428833  0.000000 0.000000\n",
       "[3,] -1.3833042 -0.08223899  1.812585 0.000000\n",
       "[4,]  0.5773897 -0.54133247 -1.518096 2.028743"
      ]
     },
     "metadata": {},
     "output_type": "display_data"
    },
    {
     "data": {
      "text/html": [
       "<table>\n",
       "<tbody>\n",
       "\t<tr><td> 3.2031263 </td><td> 0.00000000</td><td> 0.000000  </td><td>0.000000   </td></tr>\n",
       "\t<tr><td>-0.2575528 </td><td> 2.32428833</td><td> 0.000000  </td><td>0.000000   </td></tr>\n",
       "\t<tr><td>-1.3833042 </td><td>-0.08223899</td><td> 1.812585  </td><td>0.000000   </td></tr>\n",
       "\t<tr><td> 0.5773897 </td><td>-0.54133247</td><td>-1.518096  </td><td>2.028743   </td></tr>\n",
       "</tbody>\n",
       "</table>\n"
      ],
      "text/latex": [
       "\\begin{tabular}{llll}\n",
       "\t  3.2031263  &  0.00000000 &  0.000000   & 0.000000   \\\\\n",
       "\t -0.2575528  &  2.32428833 &  0.000000   & 0.000000   \\\\\n",
       "\t -1.3833042  & -0.08223899 &  1.812585   & 0.000000   \\\\\n",
       "\t  0.5773897  & -0.54133247 & -1.518096   & 2.028743   \\\\\n",
       "\\end{tabular}\n"
      ],
      "text/markdown": [
       "\n",
       "|  3.2031263  |  0.00000000 |  0.000000   | 0.000000    | \n",
       "| -0.2575528  |  2.32428833 |  0.000000   | 0.000000    | \n",
       "| -1.3833042  | -0.08223899 |  1.812585   | 0.000000    | \n",
       "|  0.5773897  | -0.54133247 | -1.518096   | 2.028743    | \n",
       "\n",
       "\n"
      ],
      "text/plain": [
       "     [,1]       [,2]        [,3]      [,4]    \n",
       "[1,]  3.2031263  0.00000000  0.000000 0.000000\n",
       "[2,] -0.2575528  2.32428833  0.000000 0.000000\n",
       "[3,] -1.3833042 -0.08223899  1.812585 0.000000\n",
       "[4,]  0.5773897 -0.54133247 -1.518096 2.028743"
      ]
     },
     "metadata": {},
     "output_type": "display_data"
    }
   ],
   "source": [
    "forupdate <- function(L, xxk, xkxk){\n",
    "    lk <- mforwardsolve(L, xxk)\n",
    "    lkk <- sqrt(xkxk - sum(lk*lk))\n",
    "    return( as.matrix( rbind( cbind(L,0),c(lk,lkk) ) ) )\n",
    "}\n",
    "\n",
    "x <- matrix(rnorm(60),10)\n",
    "xtx <- t(x)%*%x\n",
    "\n",
    "A <- c(3,2,4)\n",
    "L <- mchol(xtx[A,A])\n",
    "k <- 5\n",
    "xxk <- xtx[A,k,drop=T] \n",
    "xkxk <- xtx[k,k]\n",
    "forupdate (L, xxk, xkxk)\n",
    "A <- c(A, k)\n",
    "mchol(xtx[A,A])"
   ]
  },
  {
   "cell_type": "markdown",
   "metadata": {},
   "source": []
  },
  {
   "cell_type": "code",
   "execution_count": 218,
   "metadata": {},
   "outputs": [
    {
     "data": {
      "text/html": [
       "<table>\n",
       "<thead><tr><th scope=col>lcavol</th><th scope=col>lweight</th><th scope=col>age</th><th scope=col>lbph</th><th scope=col>svi</th><th scope=col>lcp</th><th scope=col>gleason</th><th scope=col>pgg45</th><th scope=col>lpsa</th></tr></thead>\n",
       "<tbody>\n",
       "\t<tr><td>-0.5798185</td><td>2.769459  </td><td>50        </td><td>-1.386294 </td><td>0         </td><td>-1.386294 </td><td>6         </td><td> 0        </td><td>-0.4307829</td></tr>\n",
       "\t<tr><td>-0.9942523</td><td>3.319626  </td><td>58        </td><td>-1.386294 </td><td>0         </td><td>-1.386294 </td><td>6         </td><td> 0        </td><td>-0.1625189</td></tr>\n",
       "\t<tr><td>-0.5108256</td><td>2.691243  </td><td>74        </td><td>-1.386294 </td><td>0         </td><td>-1.386294 </td><td>7         </td><td>20        </td><td>-0.1625189</td></tr>\n",
       "\t<tr><td>-1.2039728</td><td>3.282789  </td><td>58        </td><td>-1.386294 </td><td>0         </td><td>-1.386294 </td><td>6         </td><td> 0        </td><td>-0.1625189</td></tr>\n",
       "\t<tr><td> 0.7514161</td><td>3.432373  </td><td>62        </td><td>-1.386294 </td><td>0         </td><td>-1.386294 </td><td>6         </td><td> 0        </td><td> 0.3715636</td></tr>\n",
       "\t<tr><td>-1.0498221</td><td>3.228826  </td><td>50        </td><td>-1.386294 </td><td>0         </td><td>-1.386294 </td><td>6         </td><td> 0        </td><td> 0.7654678</td></tr>\n",
       "</tbody>\n",
       "</table>\n"
      ],
      "text/latex": [
       "\\begin{tabular}{r|lllllllll}\n",
       " lcavol & lweight & age & lbph & svi & lcp & gleason & pgg45 & lpsa\\\\\n",
       "\\hline\n",
       "\t -0.5798185 & 2.769459   & 50         & -1.386294  & 0          & -1.386294  & 6          &  0         & -0.4307829\\\\\n",
       "\t -0.9942523 & 3.319626   & 58         & -1.386294  & 0          & -1.386294  & 6          &  0         & -0.1625189\\\\\n",
       "\t -0.5108256 & 2.691243   & 74         & -1.386294  & 0          & -1.386294  & 7          & 20         & -0.1625189\\\\\n",
       "\t -1.2039728 & 3.282789   & 58         & -1.386294  & 0          & -1.386294  & 6          &  0         & -0.1625189\\\\\n",
       "\t  0.7514161 & 3.432373   & 62         & -1.386294  & 0          & -1.386294  & 6          &  0         &  0.3715636\\\\\n",
       "\t -1.0498221 & 3.228826   & 50         & -1.386294  & 0          & -1.386294  & 6          &  0         &  0.7654678\\\\\n",
       "\\end{tabular}\n"
      ],
      "text/markdown": [
       "\n",
       "lcavol | lweight | age | lbph | svi | lcp | gleason | pgg45 | lpsa | \n",
       "|---|---|---|---|---|---|\n",
       "| -0.5798185 | 2.769459   | 50         | -1.386294  | 0          | -1.386294  | 6          |  0         | -0.4307829 | \n",
       "| -0.9942523 | 3.319626   | 58         | -1.386294  | 0          | -1.386294  | 6          |  0         | -0.1625189 | \n",
       "| -0.5108256 | 2.691243   | 74         | -1.386294  | 0          | -1.386294  | 7          | 20         | -0.1625189 | \n",
       "| -1.2039728 | 3.282789   | 58         | -1.386294  | 0          | -1.386294  | 6          |  0         | -0.1625189 | \n",
       "|  0.7514161 | 3.432373   | 62         | -1.386294  | 0          | -1.386294  | 6          |  0         |  0.3715636 | \n",
       "| -1.0498221 | 3.228826   | 50         | -1.386294  | 0          | -1.386294  | 6          |  0         |  0.7654678 | \n",
       "\n",
       "\n"
      ],
      "text/plain": [
       "  lcavol     lweight  age lbph      svi lcp       gleason pgg45 lpsa      \n",
       "1 -0.5798185 2.769459 50  -1.386294 0   -1.386294 6        0    -0.4307829\n",
       "2 -0.9942523 3.319626 58  -1.386294 0   -1.386294 6        0    -0.1625189\n",
       "3 -0.5108256 2.691243 74  -1.386294 0   -1.386294 7       20    -0.1625189\n",
       "4 -1.2039728 3.282789 58  -1.386294 0   -1.386294 6        0    -0.1625189\n",
       "5  0.7514161 3.432373 62  -1.386294 0   -1.386294 6        0     0.3715636\n",
       "6 -1.0498221 3.228826 50  -1.386294 0   -1.386294 6        0     0.7654678"
      ]
     },
     "metadata": {},
     "output_type": "display_data"
    }
   ],
   "source": [
    "library(ElemStatLearn)\n",
    "data(prostate)\n",
    "data <- prostate[,-10]\n",
    "head(data)"
   ]
  },
  {
   "cell_type": "code",
   "execution_count": 219,
   "metadata": {},
   "outputs": [
    {
     "data": {
      "text/plain": [
       "\n",
       "Call:\n",
       "lm(formula = lpsa ~ ., data = data)\n",
       "\n",
       "Residuals:\n",
       "     Min       1Q   Median       3Q      Max \n",
       "-1.76644 -0.35510 -0.00328  0.38087  1.55770 \n",
       "\n",
       "Coefficients:\n",
       "             Estimate Std. Error t value Pr(>|t|)    \n",
       "(Intercept)  0.181561   1.320568   0.137  0.89096    \n",
       "lcavol       0.564341   0.087833   6.425 6.55e-09 ***\n",
       "lweight      0.622020   0.200897   3.096  0.00263 ** \n",
       "age         -0.021248   0.011084  -1.917  0.05848 .  \n",
       "lbph         0.096713   0.057913   1.670  0.09848 .  \n",
       "svi          0.761673   0.241176   3.158  0.00218 ** \n",
       "lcp         -0.106051   0.089868  -1.180  0.24115    \n",
       "gleason      0.049228   0.155341   0.317  0.75207    \n",
       "pgg45        0.004458   0.004365   1.021  0.31000    \n",
       "---\n",
       "Signif. codes:  0 '***' 0.001 '**' 0.01 '*' 0.05 '.' 0.1 ' ' 1\n",
       "\n",
       "Residual standard error: 0.6995 on 88 degrees of freedom\n",
       "Multiple R-squared:  0.6634,\tAdjusted R-squared:  0.6328 \n",
       "F-statistic: 21.68 on 8 and 88 DF,  p-value: < 2.2e-16\n"
      ]
     },
     "metadata": {},
     "output_type": "display_data"
    },
    {
     "data": {
      "text/html": [
       "<ol class=list-inline>\n",
       "\t<li>9</li>\n",
       "\t<li>-60.7788612501337</li>\n",
       "</ol>\n"
      ],
      "text/latex": [
       "\\begin{enumerate*}\n",
       "\\item 9\n",
       "\\item -60.7788612501337\n",
       "\\end{enumerate*}\n"
      ],
      "text/markdown": [
       "1. 9\n",
       "2. -60.7788612501337\n",
       "\n",
       "\n"
      ],
      "text/plain": [
       "[1]   9.00000 -60.77886"
      ]
     },
     "metadata": {},
     "output_type": "display_data"
    },
    {
     "name": "stdout",
     "output_type": "stream",
     "text": [
      "Start:  AIC=-60.78\n",
      "lpsa ~ lcavol + lweight + age + lbph + svi + lcp + gleason + \n",
      "    pgg45\n",
      "\n",
      "          Df Sum of Sq    RSS     AIC\n",
      "- gleason  1    0.0491 43.108 -62.668\n",
      "- pgg45    1    0.5102 43.569 -61.636\n",
      "- lcp      1    0.6814 43.740 -61.256\n",
      "<none>                 43.058 -60.779\n",
      "- lbph     1    1.3646 44.423 -59.753\n",
      "- age      1    1.7981 44.857 -58.810\n",
      "- lweight  1    4.6907 47.749 -52.749\n",
      "- svi      1    4.8803 47.939 -52.364\n",
      "- lcavol   1   20.1994 63.258 -25.467\n",
      "\n",
      "Step:  AIC=-62.67\n",
      "lpsa ~ lcavol + lweight + age + lbph + svi + lcp + pgg45\n",
      "\n",
      "          Df Sum of Sq    RSS     AIC\n",
      "- lcp      1    0.6684 43.776 -63.176\n",
      "<none>                 43.108 -62.668\n",
      "- pgg45    1    1.1987 44.306 -62.008\n",
      "- lbph     1    1.3844 44.492 -61.602\n",
      "- age      1    1.7579 44.865 -60.791\n",
      "+ gleason  1    0.0491 43.058 -60.779\n",
      "- lweight  1    4.6429 47.751 -54.746\n",
      "- svi      1    4.8333 47.941 -54.360\n",
      "- lcavol   1   21.3191 64.427 -25.691\n",
      "\n",
      "Step:  AIC=-63.18\n",
      "lpsa ~ lcavol + lweight + age + lbph + svi + pgg45\n",
      "\n",
      "          Df Sum of Sq    RSS     AIC\n",
      "- pgg45    1    0.6607 44.437 -63.723\n",
      "<none>                 43.776 -63.176\n",
      "+ lcp      1    0.6684 43.108 -62.668\n",
      "- lbph     1    1.3329 45.109 -62.266\n",
      "- age      1    1.4878 45.264 -61.934\n",
      "+ gleason  1    0.0362 43.740 -61.256\n",
      "- svi      1    4.1766 47.953 -56.336\n",
      "- lweight  1    4.6553 48.431 -55.373\n",
      "- lcavol   1   22.7555 66.531 -24.572\n",
      "\n",
      "Step:  AIC=-63.72\n",
      "lpsa ~ lcavol + lweight + age + lbph + svi\n",
      "\n",
      "          Df Sum of Sq    RSS     AIC\n",
      "<none>                 44.437 -63.723\n",
      "- age      1    1.1588 45.595 -63.226\n",
      "+ pgg45    1    0.6607 43.776 -63.176\n",
      "+ gleason  1    0.4767 43.960 -62.769\n",
      "- lbph     1    1.5087 45.945 -62.484\n",
      "+ lcp      1    0.1304 44.306 -62.008\n",
      "- lweight  1    4.3140 48.751 -56.735\n",
      "- svi      1    5.8509 50.288 -53.724\n",
      "- lcavol   1   25.9427 70.379 -21.119\n"
     ]
    },
    {
     "data": {
      "text/plain": [
       "\n",
       "Call:\n",
       "lm(formula = lpsa ~ lcavol + lweight + age + lbph + svi, data = data)\n",
       "\n",
       "Coefficients:\n",
       "(Intercept)       lcavol      lweight          age         lbph          svi  \n",
       "    0.49473      0.54400      0.58821     -0.01644      0.10122      0.71490  \n"
      ]
     },
     "metadata": {},
     "output_type": "display_data"
    }
   ],
   "source": [
    "lm1= lm(lpsa~.,data)\n",
    "summary(lm1)\n",
    "extractAIC(lm1) #  nln(RSS/n)+ 2*9, not AIC\n",
    "step(lm1, direction=\"both\")"
   ]
  },
  {
   "cell_type": "code",
   "execution_count": 244,
   "metadata": {},
   "outputs": [
    {
     "data": {
      "text/html": [
       "<ol class=list-inline>\n",
       "\t<li>0.181560861987272</li>\n",
       "\t<li>0.564341279179177</li>\n",
       "\t<li>0.622019786549861</li>\n",
       "\t<li>-0.0212481849967755</li>\n",
       "\t<li>0.0967125229901617</li>\n",
       "\t<li>0.761673403429121</li>\n",
       "\t<li>-0.106050938722781</li>\n",
       "\t<li>0.0492279326438309</li>\n",
       "\t<li>0.00445751181220263</li>\n",
       "</ol>\n"
      ],
      "text/latex": [
       "\\begin{enumerate*}\n",
       "\\item 0.181560861987272\n",
       "\\item 0.564341279179177\n",
       "\\item 0.622019786549861\n",
       "\\item -0.0212481849967755\n",
       "\\item 0.0967125229901617\n",
       "\\item 0.761673403429121\n",
       "\\item -0.106050938722781\n",
       "\\item 0.0492279326438309\n",
       "\\item 0.00445751181220263\n",
       "\\end{enumerate*}\n"
      ],
      "text/markdown": [
       "1. 0.181560861987272\n",
       "2. 0.564341279179177\n",
       "3. 0.622019786549861\n",
       "4. -0.0212481849967755\n",
       "5. 0.0967125229901617\n",
       "6. 0.761673403429121\n",
       "7. -0.106050938722781\n",
       "8. 0.0492279326438309\n",
       "9. 0.00445751181220263\n",
       "\n",
       "\n"
      ],
      "text/plain": [
       "[1]  0.181560862  0.564341279  0.622019787 -0.021248185  0.096712523\n",
       "[6]  0.761673403 -0.106050939  0.049227933  0.004457512"
      ]
     },
     "metadata": {},
     "output_type": "display_data"
    },
    {
     "data": {
      "text/html": [
       "-60.7788612501344"
      ],
      "text/latex": [
       "-60.7788612501344"
      ],
      "text/markdown": [
       "-60.7788612501344"
      ],
      "text/plain": [
       "[1] -60.77886"
      ]
     },
     "metadata": {},
     "output_type": "display_data"
    }
   ],
   "source": [
    "np <- dim(data)\n",
    "n <- np[1]\n",
    "p <- np[2]-1\n",
    "xn <- names(data)[1:p]\n",
    "x <- as.matrix( cbind(1,data[,1:p]) )\n",
    "y <- data[,p+1]\n",
    "\n",
    "\n",
    "xtx <- t(x)%*%x\n",
    "xty <- drop(t(x)%*%y)\n",
    "yty <- sum(y*y)\n",
    "\n",
    "\n",
    "L <- mchol(xtx)\n",
    "tb <- mforwardsolve(L, xty)\n",
    "b <- mbacksolve(t(L), tb)\n",
    "b\n",
    "\n",
    "RSS <- yty - sum(tb*tb)  ###谁知道为什么，有奖！！！！\n",
    "AICF <- n*log(RSS/n) + 2*(p+1)\n",
    "AICF\n",
    "\n",
    "#A1 <- rep(TRUE, p)\n",
    "#A <- c(TRUE, A1)\n",
    "\n",
    "A <- 1:(p+1)\n",
    "LA <- L\n",
    "MAIC <- AICF\n",
    "mAIC <- AICF\n",
    "flag <- rep(FALSE,p)"
   ]
  },
  {
   "cell_type": "code",
   "execution_count": 245,
   "metadata": {
    "code_folding": [
     20
    ]
   },
   "outputs": [
    {
     "name": "stdout",
     "output_type": "stream",
     "text": [
      "[1] -62.66823\n",
      "[1] -63.17571\n",
      "[1] -63.72263\n"
     ]
    },
    {
     "data": {
      "text/html": [
       "<table>\n",
       "<thead><tr><th scope=col>inter</th><th scope=col>lcavol</th><th scope=col>lweight</th><th scope=col>age</th><th scope=col>lbph</th><th scope=col>svi</th></tr></thead>\n",
       "<tbody>\n",
       "\t<tr><td>0.4947293  </td><td>0.5439979  </td><td>0.5882127  </td><td>-0.01644485</td><td>0.1012233  </td><td>0.714904   </td></tr>\n",
       "</tbody>\n",
       "</table>\n"
      ],
      "text/latex": [
       "\\begin{tabular}{r|llllll}\n",
       " inter & lcavol & lweight & age & lbph & svi\\\\\n",
       "\\hline\n",
       "\t 0.4947293   & 0.5439979   & 0.5882127   & -0.01644485 & 0.1012233   & 0.714904   \\\\\n",
       "\\end{tabular}\n"
      ],
      "text/markdown": [
       "\n",
       "inter | lcavol | lweight | age | lbph | svi | \n",
       "|---|\n",
       "| 0.4947293   | 0.5439979   | 0.5882127   | -0.01644485 | 0.1012233   | 0.714904    | \n",
       "\n",
       "\n"
      ],
      "text/plain": [
       "  inter     lcavol    lweight   age         lbph      svi     \n",
       "1 0.4947293 0.5439979 0.5882127 -0.01644485 0.1012233 0.714904"
      ]
     },
     "metadata": {},
     "output_type": "display_data"
    }
   ],
   "source": [
    "repeat{\n",
    "    \n",
    "    #print(flag)\n",
    "    if( length(A) < p+1 ){\n",
    "        #B <- setdiff( 1:(p+1), A)\n",
    "        B <- (2:(p+1))[flag]\n",
    "        #flag[B-1] <- TRUE\n",
    "        #print(flag)\n",
    "    }else{\n",
    "        B <- NULL\n",
    "    }\n",
    "    AB <- c(A,B)\n",
    "    bm <- matrix(0,p,p+1)\n",
    "    AICm <- rep(0,p)\n",
    "\n",
    "    #A <- c(TRUE, A1)\n",
    "    #a1 <- (1:(p+1))[A]\n",
    "    #c1 <- (1:(p+1))[!A]\n",
    "    #tp <- length(a1)\n",
    "    ff <- 2\n",
    "    #print(AB)\n",
    "    for(k in AB[2:(p+1)]){\n",
    "        if( !flag[k-1]){\n",
    "            \n",
    "            Lk <- mgives(LA,ff)\n",
    "            tA <- A[-ff]\n",
    "            xtyk <- xty[ tA ]\n",
    "            #print(Lk)\n",
    "            #print(xtyk)\n",
    "            tbk <- mforwardsolve(Lk, xtyk)\n",
    "            bk <- mbacksolve(t(Lk), tbk)\n",
    "            #tA <- c(1, tA)\n",
    "            #print(bk)\n",
    "            #print(tA)\n",
    "            bm[k-1,tA] <- bk\n",
    "            #print(bk)\n",
    "            RSSk <- yty - sum(tbk*tbk)  \n",
    "            AICk <- n*log(RSSk/n) + 2*( length(A)-1)\n",
    "            AICm[k-1] <- AICk\n",
    "            ff <- ff+1\n",
    "            if( AICk < mAIC ){\n",
    "                mink <- k\n",
    "                mtA <- tA\n",
    "                mAIC <- AICk\n",
    "                mLA <- Lk\n",
    "                hb <- bm[k-1,]\n",
    "            }\n",
    "            \n",
    "        } else {\n",
    "            #print (k)\n",
    "            xxk <- xtx[A,k,drop=T] \n",
    "            xkxk <- xtx[k,k]\n",
    "            Lk <- forupdate (LA, xxk, xkxk)\n",
    "            tA <- c(A,k)\n",
    "            xtyk <- xty[tA]\n",
    "            tbk <- mforwardsolve(Lk, xtyk)\n",
    "            bk <- mbacksolve(t(Lk), tbk)\n",
    "            \n",
    "            \n",
    "            bm[k-1,tA] <- bk\n",
    "            RSSk <- yty - sum(tbk*tbk)  ###谁知道为什么，有奖！！！！\n",
    "            AICk <- n*log(RSSk/n) + 2*(length(A)+1)\n",
    "            AICm[k-1] <- AICk\n",
    "            if( AICk < mAIC ){\n",
    "                mink <- k\n",
    "                mtA <- tA\n",
    "                mAIC <- AICk\n",
    "                mLA <- Lk\n",
    "                hb <- bm[k-1,]\n",
    "            }            \n",
    "        }\n",
    "    }\n",
    "    #print(bm)\n",
    "    #print(AICm)\n",
    "    #print(flag)\n",
    "    \n",
    "    if(mAIC >= MAIC) break\n",
    "    if (mAIC<MAIC ){\n",
    "        #print(flag)\n",
    "        flag[mink-1] = !flag[mink-1]\n",
    "        A <- mtA\n",
    "        MAIC <- mAIC\n",
    "        print(MAIC)\n",
    "        hhb <- hb\n",
    "        LA <- mLA\n",
    "    }\n",
    "\n",
    "}\n",
    "re <- data.frame(matrix(hhb[c(TRUE,!flag)],nrow=1))\n",
    "names(re) <- c(\"inter\", xn[!flag])\n",
    "re\n",
    "\n",
    "#}"
   ]
  },
  {
   "cell_type": "code",
   "execution_count": 248,
   "metadata": {
    "code_folding": []
   },
   "outputs": [
    {
     "data": {
      "text/html": [
       "<table>\n",
       "<thead><tr><th scope=col>inter</th><th scope=col>lcavol</th><th scope=col>lweight</th><th scope=col>age</th><th scope=col>lbph</th><th scope=col>svi</th></tr></thead>\n",
       "<tbody>\n",
       "\t<tr><td>0.4947293  </td><td>0.5439979  </td><td>0.5882127  </td><td>-0.01644485</td><td>0.1012233  </td><td>0.714904   </td></tr>\n",
       "</tbody>\n",
       "</table>\n"
      ],
      "text/latex": [
       "\\begin{tabular}{r|llllll}\n",
       " inter & lcavol & lweight & age & lbph & svi\\\\\n",
       "\\hline\n",
       "\t 0.4947293   & 0.5439979   & 0.5882127   & -0.01644485 & 0.1012233   & 0.714904   \\\\\n",
       "\\end{tabular}\n"
      ],
      "text/markdown": [
       "\n",
       "inter | lcavol | lweight | age | lbph | svi | \n",
       "|---|\n",
       "| 0.4947293   | 0.5439979   | 0.5882127   | -0.01644485 | 0.1012233   | 0.714904    | \n",
       "\n",
       "\n"
      ],
      "text/plain": [
       "  inter     lcavol    lweight   age         lbph      svi     \n",
       "1 0.4947293 0.5439979 0.5882127 -0.01644485 0.1012233 0.714904"
      ]
     },
     "metadata": {},
     "output_type": "display_data"
    },
    {
     "data": {
      "text/html": [
       "<table>\n",
       "<thead><tr><th scope=col>inter</th><th scope=col>svi</th><th scope=col>age</th><th scope=col>lbph</th><th scope=col>lcavol</th><th scope=col>lweight</th></tr></thead>\n",
       "<tbody>\n",
       "\t<tr><td>0.4947293  </td><td>0.714904   </td><td>-0.01644485</td><td>0.1012233  </td><td>0.5439979  </td><td>0.5882127  </td></tr>\n",
       "</tbody>\n",
       "</table>\n"
      ],
      "text/latex": [
       "\\begin{tabular}{r|llllll}\n",
       " inter & svi & age & lbph & lcavol & lweight\\\\\n",
       "\\hline\n",
       "\t 0.4947293   & 0.714904    & -0.01644485 & 0.1012233   & 0.5439979   & 0.5882127  \\\\\n",
       "\\end{tabular}\n"
      ],
      "text/markdown": [
       "\n",
       "inter | svi | age | lbph | lcavol | lweight | \n",
       "|---|\n",
       "| 0.4947293   | 0.714904    | -0.01644485 | 0.1012233   | 0.5439979   | 0.5882127   | \n",
       "\n",
       "\n"
      ],
      "text/plain": [
       "  inter     svi      age         lbph      lcavol    lweight  \n",
       "1 0.4947293 0.714904 -0.01644485 0.1012233 0.5439979 0.5882127"
      ]
     },
     "metadata": {},
     "output_type": "display_data"
    }
   ],
   "source": [
    "steplm <- function(data){\n",
    "    np <- dim(data)\n",
    "    n <- np[1]\n",
    "    p <- np[2]-1\n",
    "    xn <- c(\"inter\", names(data)[1:p])\n",
    "    x <- as.matrix( cbind(1,data[,1:p]) )\n",
    "    y <- data[,p+1]\n",
    "\n",
    "\n",
    "    xtx <- t(x)%*%x\n",
    "    xty <- drop(t(x)%*%y)\n",
    "    yty <- sum(y*y)\n",
    "\n",
    "\n",
    "    L <- mchol(xtx)\n",
    "    tb <- mforwardsolve(L, xty)\n",
    "    b <- mbacksolve(t(L), tb)\n",
    "    #b\n",
    "\n",
    "    RSS <- yty - sum(tb*tb)  ###谁知道为什么，有奖！！！！\n",
    "    AICF <- n*log(RSS/n) + 2*(p+1)\n",
    "    #AICF\n",
    "\n",
    "#A1 <- rep(TRUE, p)\n",
    "#A <- c(TRUE, A1)\n",
    "\n",
    "    A <- 1:(p+1)\n",
    "    LA <- L\n",
    "    MAIC <- AICF\n",
    "    mAIC <- AICF\n",
    "    MFLAG <- c(TRUE, rep(FALSE, p))\n",
    "    flag <- rep(TRUE,p+1)\n",
    "    hbb <- b\n",
    "    repeat{\n",
    "        if( length(A) < p+1 ){\n",
    "             B <- (1:(p+1))[!flag]\n",
    "        }\n",
    "        else{\n",
    "            B <- NULL\n",
    "        }\n",
    "        AB <- c(A,B)\n",
    "        bm <- matrix(0,p,p+1)\n",
    "        AICm <- rep(0,p)\n",
    "\n",
    "        ff <- 1\n",
    "        #print(AB)\n",
    "        for(k in AB){\n",
    "            if(MFLAG[k]){\n",
    "                ff <- ff+1\n",
    "            } else {\n",
    "                if(flag[k]){\n",
    "                    Lk <- mgives(LA,ff)\n",
    "                    tA <- A[-ff]\n",
    "                    xtyk <- xty[ tA ]\n",
    "                    ff <- ff+1\n",
    "                } else {\n",
    "                    xxk <- xtx[A,k,drop=T] \n",
    "                    xkxk <- xtx[k,k]\n",
    "                    Lk <- forupdate (LA, xxk, xkxk)\n",
    "                    tA <- c(A,k)\n",
    "                    xtyk <- xty[tA]\n",
    "                }\n",
    "                #print(A)\n",
    "                #print(B)\n",
    "                #print(k)\n",
    "                tbk <- mforwardsolve(Lk, xtyk)\n",
    "                bk <- mbacksolve(t(Lk), tbk)\n",
    "            #tA <- c(1, tA)\n",
    "                #print(tbk)\n",
    "            #print(tA)\n",
    "                bm[k-1,tA] <- bk\n",
    "            #print(bk)\n",
    "                RSSk <- yty - sum(tbk*tbk)  \n",
    "                AICk <- n*log(RSSk/n) + 2*length(tA)\n",
    "                AICm[k-1] <- AICk\n",
    "       \n",
    "                if( AICk < mAIC ){\n",
    "                    mink <- k\n",
    "                    mtA <- tA\n",
    "                    mAIC <- AICk\n",
    "                    mLA <- Lk\n",
    "                    hb <- bm[k-1,]\n",
    "                }\n",
    "            }\n",
    "        }\n",
    "\n",
    "        if(mAIC >= MAIC) break\n",
    "        if ( mAIC<MAIC ){\n",
    "            flag[mink] = !flag[mink]\n",
    "            A <- mtA\n",
    "            MAIC <- mAIC\n",
    "            hhb <- hb\n",
    "            LA <- mLA\n",
    "        }\n",
    "\n",
    "    }\n",
    "    re <- data.frame(matrix(hhb[c(flag)],nrow=1))\n",
    "    names(re) <- xn[flag]\n",
    "    return(re)\n",
    "}\n",
    "steplm(data)\n",
    "data <- data[,c(sample(1:8,8),9)]\n",
    "steplm(data)"
   ]
  },
  {
   "cell_type": "code",
   "execution_count": 8,
   "metadata": {},
   "outputs": [
    {
     "ename": "ERROR",
     "evalue": "Error in terms(object): 找不到对象'lm1'\n",
     "output_type": "error",
     "traceback": [
      "Error in terms(object): 找不到对象'lm1'\nTraceback:\n",
      "1. coef(step(lm1, direction = \"both\"))",
      "2. step(lm1, direction = \"both\")",
      "3. terms(object)"
     ]
    }
   ],
   "source": [
    "coef(step(lm1, direction=\"both\"))"
   ]
  },
  {
   "cell_type": "markdown",
   "metadata": {},
   "source": [
    "注：理论部分参考：徐树方, 高立, 张平文. 数值线性代数.第2版[M]. 北京大学出版社, 2013."
   ]
  }
 ],
 "metadata": {
  "kernelspec": {
   "display_name": "R",
   "language": "R",
   "name": "ir"
  },
  "language_info": {
   "codemirror_mode": "r",
   "file_extension": ".r",
   "mimetype": "text/x-r-source",
   "name": "R",
   "pygments_lexer": "r",
   "version": "3.5.1"
  },
  "toc": {
   "nav_menu": {},
   "number_sections": true,
   "sideBar": true,
   "skip_h1_title": false,
   "title_cell": "Table of Contents",
   "title_sidebar": "Contents",
   "toc_cell": true,
   "toc_position": {},
   "toc_section_display": true,
   "toc_window_display": false
  }
 },
 "nbformat": 4,
 "nbformat_minor": 2
}
